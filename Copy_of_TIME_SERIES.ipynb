{
  "nbformat": 4,
  "nbformat_minor": 0,
  "metadata": {
    "colab": {
      "name": "Copy of TIME_SERIES.ipynb",
      "provenance": [],
      "collapsed_sections": []
    },
    "kernelspec": {
      "name": "python3",
      "display_name": "Python 3"
    },
    "language_info": {
      "name": "python"
    }
  },
  "cells": [
    {
      "cell_type": "markdown",
      "source": [
        "### Connecting google drive a a working directory"
      ],
      "metadata": {
        "id": "wV7KzLlHInwW"
      }
    },
    {
      "cell_type": "markdown",
      "source": [
        "National Grid Dataset\n",
        "\n",
        "https://drive.google.com/drive/folders/1qcD9tq4yeNSzAQp5Pi_GeHRSJ9n9u78u?usp=sharing\n",
        "\n",
        "*Download the dataset and store it in any folder inside the google drive*"
      ],
      "metadata": {
        "id": "Ac6BtMCLJLwc"
      }
    },
    {
      "cell_type": "code",
      "execution_count": 2,
      "metadata": {
        "colab": {
          "base_uri": "https://localhost:8080/"
        },
        "id": "tJYqMZ3Qvm3T",
        "outputId": "42695c85-e411-4e93-9d97-f590057fb2a6"
      },
      "outputs": [
        {
          "output_type": "stream",
          "name": "stdout",
          "text": [
            "Mounted at /content/drive\n"
          ]
        }
      ],
      "source": [
        "from google.colab import drive\n",
        "drive.mount('/content/drive')"
      ]
    },
    {
      "cell_type": "markdown",
      "source": [
        "**Importing the libraries pandas, Numpy and matplotlib**\n",
        "\n",
        "\n",
        "> pandas for handling tabular datasets\n",
        "\n",
        "\n",
        "> Numpy for performing math operations and handling datastructures of array format.\n",
        "\n",
        "\n",
        "> matplotlib for plotting graphs and visualization \n",
        "\n",
        "\n",
        "\n",
        "\n"
      ],
      "metadata": {
        "id": "k5PXeoiSI_Ff"
      }
    },
    {
      "cell_type": "markdown",
      "source": [
        "### importing the data and analysing "
      ],
      "metadata": {
        "id": "Jc6NDuZnEnuM"
      }
    },
    {
      "cell_type": "code",
      "source": [
        "import pandas as pd\n",
        "import numpy as np\n",
        "\n",
        "import matplotlib.pyplot as plt"
      ],
      "metadata": {
        "id": "uuRMI--FvqVk"
      },
      "execution_count": 4,
      "outputs": []
    },
    {
      "cell_type": "markdown",
      "source": [
        "**Getting the values for month and year**"
      ],
      "metadata": {
        "id": "XfKoILC0JPAS"
      }
    },
    {
      "cell_type": "code",
      "source": [
        "YEAR = int(input('Enter the year for finding the Dataset ---> '))\n",
        "MONTH = int(input('Enter the month for finding the Dataset---> '))"
      ],
      "metadata": {
        "colab": {
          "base_uri": "https://localhost:8080/"
        },
        "id": "HnLDF-DEzc6y",
        "outputId": "d50fa756-3552-4df3-8ce1-ddff32f75f1b"
      },
      "execution_count": 12,
      "outputs": [
        {
          "name": "stdout",
          "output_type": "stream",
          "text": [
            "Enter the year for finding the Dataset ---> 2021\n",
            "Enter the month for finding the Dataset---> 09\n"
          ]
        }
      ]
    },
    {
      "cell_type": "markdown",
      "source": [
        "**location of the dataset**\n",
        "\n",
        "click the folder icon on the left side of the colab notebook. Go to drive to locate your file and get the path of the national grid data locaated in the drive and paste it hear upto the folder which contains the file. the link given here is **f'/content/drive/MyDrive/DATASETS/fNew {YEAR} {MONTH}.csv'**. copy the link and paste it till the **DATASETS/**"
      ],
      "metadata": {
        "id": "gmpG55hRJpCl"
      }
    },
    {
      "cell_type": "code",
      "source": [
        "dataset = f'/content/drive/MyDrive/DATASETS/fNew {YEAR} {MONTH}.csv'"
      ],
      "metadata": {
        "id": "zJ3Z6AtVvxAd"
      },
      "execution_count": 14,
      "outputs": []
    },
    {
      "cell_type": "markdown",
      "source": [
        "**Reading the dataset from the format .csv**"
      ],
      "metadata": {
        "id": "253a7_0MyiYm"
      }
    },
    {
      "cell_type": "code",
      "source": [
        "df = pd.read_csv(dataset)"
      ],
      "metadata": {
        "id": "-9PztfVTv3pQ"
      },
      "execution_count": 15,
      "outputs": []
    },
    {
      "cell_type": "markdown",
      "source": [
        "**Splitting data and time in a seperate column**"
      ],
      "metadata": {
        "id": "LJ1q1xzOyuRa"
      }
    },
    {
      "cell_type": "code",
      "source": [
        "df[['Date','time']] = df.dtm.str.split(\" \",expand=True,)"
      ],
      "metadata": {
        "id": "Lw88CgLmv-Y4"
      },
      "execution_count": 16,
      "outputs": []
    },
    {
      "cell_type": "code",
      "source": [
        "df[['YEAR','MONTH', 'DATE']] = df.Date.str.split(\"-\",expand=True,)\n",
        "df[['HOURS','MINUTES', 'SECONDS']] = df.time.str.split(\":\",expand=True,)"
      ],
      "metadata": {
        "id": "HskRCGN2wJrM"
      },
      "execution_count": 17,
      "outputs": []
    },
    {
      "cell_type": "code",
      "source": [
        "df"
      ],
      "metadata": {
        "colab": {
          "base_uri": "https://localhost:8080/",
          "height": 423
        },
        "id": "b82jrZo4wV7Q",
        "outputId": "57f7931c-2acf-44a4-cf34-305c108fcbaa"
      },
      "execution_count": 18,
      "outputs": [
        {
          "output_type": "execute_result",
          "data": {
            "text/plain": [
              "                         dtm       f        Date      time  YEAR MONTH DATE  \\\n",
              "0        2021-09-01 00:00:00  49.923  2021-09-01  00:00:00  2021    09   01   \n",
              "1        2021-09-01 00:00:01  49.916  2021-09-01  00:00:01  2021    09   01   \n",
              "2        2021-09-01 00:00:02  49.908  2021-09-01  00:00:02  2021    09   01   \n",
              "3        2021-09-01 00:00:03  49.901  2021-09-01  00:00:03  2021    09   01   \n",
              "4        2021-09-01 00:00:04  49.899  2021-09-01  00:00:04  2021    09   01   \n",
              "...                      ...     ...         ...       ...   ...   ...  ...   \n",
              "2591995  2021-09-30 23:59:55  50.052  2021-09-30  23:59:55  2021    09   30   \n",
              "2591996  2021-09-30 23:59:56  50.050  2021-09-30  23:59:56  2021    09   30   \n",
              "2591997  2021-09-30 23:59:57  50.046  2021-09-30  23:59:57  2021    09   30   \n",
              "2591998  2021-09-30 23:59:58  50.044  2021-09-30  23:59:58  2021    09   30   \n",
              "2591999  2021-09-30 23:59:59  50.048  2021-09-30  23:59:59  2021    09   30   \n",
              "\n",
              "        HOURS MINUTES SECONDS  \n",
              "0          00      00      00  \n",
              "1          00      00      01  \n",
              "2          00      00      02  \n",
              "3          00      00      03  \n",
              "4          00      00      04  \n",
              "...       ...     ...     ...  \n",
              "2591995    23      59      55  \n",
              "2591996    23      59      56  \n",
              "2591997    23      59      57  \n",
              "2591998    23      59      58  \n",
              "2591999    23      59      59  \n",
              "\n",
              "[2592000 rows x 10 columns]"
            ],
            "text/html": [
              "\n",
              "  <div id=\"df-8a9f8633-7843-47e8-a4b7-664b78d58ec8\">\n",
              "    <div class=\"colab-df-container\">\n",
              "      <div>\n",
              "<style scoped>\n",
              "    .dataframe tbody tr th:only-of-type {\n",
              "        vertical-align: middle;\n",
              "    }\n",
              "\n",
              "    .dataframe tbody tr th {\n",
              "        vertical-align: top;\n",
              "    }\n",
              "\n",
              "    .dataframe thead th {\n",
              "        text-align: right;\n",
              "    }\n",
              "</style>\n",
              "<table border=\"1\" class=\"dataframe\">\n",
              "  <thead>\n",
              "    <tr style=\"text-align: right;\">\n",
              "      <th></th>\n",
              "      <th>dtm</th>\n",
              "      <th>f</th>\n",
              "      <th>Date</th>\n",
              "      <th>time</th>\n",
              "      <th>YEAR</th>\n",
              "      <th>MONTH</th>\n",
              "      <th>DATE</th>\n",
              "      <th>HOURS</th>\n",
              "      <th>MINUTES</th>\n",
              "      <th>SECONDS</th>\n",
              "    </tr>\n",
              "  </thead>\n",
              "  <tbody>\n",
              "    <tr>\n",
              "      <th>0</th>\n",
              "      <td>2021-09-01 00:00:00</td>\n",
              "      <td>49.923</td>\n",
              "      <td>2021-09-01</td>\n",
              "      <td>00:00:00</td>\n",
              "      <td>2021</td>\n",
              "      <td>09</td>\n",
              "      <td>01</td>\n",
              "      <td>00</td>\n",
              "      <td>00</td>\n",
              "      <td>00</td>\n",
              "    </tr>\n",
              "    <tr>\n",
              "      <th>1</th>\n",
              "      <td>2021-09-01 00:00:01</td>\n",
              "      <td>49.916</td>\n",
              "      <td>2021-09-01</td>\n",
              "      <td>00:00:01</td>\n",
              "      <td>2021</td>\n",
              "      <td>09</td>\n",
              "      <td>01</td>\n",
              "      <td>00</td>\n",
              "      <td>00</td>\n",
              "      <td>01</td>\n",
              "    </tr>\n",
              "    <tr>\n",
              "      <th>2</th>\n",
              "      <td>2021-09-01 00:00:02</td>\n",
              "      <td>49.908</td>\n",
              "      <td>2021-09-01</td>\n",
              "      <td>00:00:02</td>\n",
              "      <td>2021</td>\n",
              "      <td>09</td>\n",
              "      <td>01</td>\n",
              "      <td>00</td>\n",
              "      <td>00</td>\n",
              "      <td>02</td>\n",
              "    </tr>\n",
              "    <tr>\n",
              "      <th>3</th>\n",
              "      <td>2021-09-01 00:00:03</td>\n",
              "      <td>49.901</td>\n",
              "      <td>2021-09-01</td>\n",
              "      <td>00:00:03</td>\n",
              "      <td>2021</td>\n",
              "      <td>09</td>\n",
              "      <td>01</td>\n",
              "      <td>00</td>\n",
              "      <td>00</td>\n",
              "      <td>03</td>\n",
              "    </tr>\n",
              "    <tr>\n",
              "      <th>4</th>\n",
              "      <td>2021-09-01 00:00:04</td>\n",
              "      <td>49.899</td>\n",
              "      <td>2021-09-01</td>\n",
              "      <td>00:00:04</td>\n",
              "      <td>2021</td>\n",
              "      <td>09</td>\n",
              "      <td>01</td>\n",
              "      <td>00</td>\n",
              "      <td>00</td>\n",
              "      <td>04</td>\n",
              "    </tr>\n",
              "    <tr>\n",
              "      <th>...</th>\n",
              "      <td>...</td>\n",
              "      <td>...</td>\n",
              "      <td>...</td>\n",
              "      <td>...</td>\n",
              "      <td>...</td>\n",
              "      <td>...</td>\n",
              "      <td>...</td>\n",
              "      <td>...</td>\n",
              "      <td>...</td>\n",
              "      <td>...</td>\n",
              "    </tr>\n",
              "    <tr>\n",
              "      <th>2591995</th>\n",
              "      <td>2021-09-30 23:59:55</td>\n",
              "      <td>50.052</td>\n",
              "      <td>2021-09-30</td>\n",
              "      <td>23:59:55</td>\n",
              "      <td>2021</td>\n",
              "      <td>09</td>\n",
              "      <td>30</td>\n",
              "      <td>23</td>\n",
              "      <td>59</td>\n",
              "      <td>55</td>\n",
              "    </tr>\n",
              "    <tr>\n",
              "      <th>2591996</th>\n",
              "      <td>2021-09-30 23:59:56</td>\n",
              "      <td>50.050</td>\n",
              "      <td>2021-09-30</td>\n",
              "      <td>23:59:56</td>\n",
              "      <td>2021</td>\n",
              "      <td>09</td>\n",
              "      <td>30</td>\n",
              "      <td>23</td>\n",
              "      <td>59</td>\n",
              "      <td>56</td>\n",
              "    </tr>\n",
              "    <tr>\n",
              "      <th>2591997</th>\n",
              "      <td>2021-09-30 23:59:57</td>\n",
              "      <td>50.046</td>\n",
              "      <td>2021-09-30</td>\n",
              "      <td>23:59:57</td>\n",
              "      <td>2021</td>\n",
              "      <td>09</td>\n",
              "      <td>30</td>\n",
              "      <td>23</td>\n",
              "      <td>59</td>\n",
              "      <td>57</td>\n",
              "    </tr>\n",
              "    <tr>\n",
              "      <th>2591998</th>\n",
              "      <td>2021-09-30 23:59:58</td>\n",
              "      <td>50.044</td>\n",
              "      <td>2021-09-30</td>\n",
              "      <td>23:59:58</td>\n",
              "      <td>2021</td>\n",
              "      <td>09</td>\n",
              "      <td>30</td>\n",
              "      <td>23</td>\n",
              "      <td>59</td>\n",
              "      <td>58</td>\n",
              "    </tr>\n",
              "    <tr>\n",
              "      <th>2591999</th>\n",
              "      <td>2021-09-30 23:59:59</td>\n",
              "      <td>50.048</td>\n",
              "      <td>2021-09-30</td>\n",
              "      <td>23:59:59</td>\n",
              "      <td>2021</td>\n",
              "      <td>09</td>\n",
              "      <td>30</td>\n",
              "      <td>23</td>\n",
              "      <td>59</td>\n",
              "      <td>59</td>\n",
              "    </tr>\n",
              "  </tbody>\n",
              "</table>\n",
              "<p>2592000 rows × 10 columns</p>\n",
              "</div>\n",
              "      <button class=\"colab-df-convert\" onclick=\"convertToInteractive('df-8a9f8633-7843-47e8-a4b7-664b78d58ec8')\"\n",
              "              title=\"Convert this dataframe to an interactive table.\"\n",
              "              style=\"display:none;\">\n",
              "        \n",
              "  <svg xmlns=\"http://www.w3.org/2000/svg\" height=\"24px\"viewBox=\"0 0 24 24\"\n",
              "       width=\"24px\">\n",
              "    <path d=\"M0 0h24v24H0V0z\" fill=\"none\"/>\n",
              "    <path d=\"M18.56 5.44l.94 2.06.94-2.06 2.06-.94-2.06-.94-.94-2.06-.94 2.06-2.06.94zm-11 1L8.5 8.5l.94-2.06 2.06-.94-2.06-.94L8.5 2.5l-.94 2.06-2.06.94zm10 10l.94 2.06.94-2.06 2.06-.94-2.06-.94-.94-2.06-.94 2.06-2.06.94z\"/><path d=\"M17.41 7.96l-1.37-1.37c-.4-.4-.92-.59-1.43-.59-.52 0-1.04.2-1.43.59L10.3 9.45l-7.72 7.72c-.78.78-.78 2.05 0 2.83L4 21.41c.39.39.9.59 1.41.59.51 0 1.02-.2 1.41-.59l7.78-7.78 2.81-2.81c.8-.78.8-2.07 0-2.86zM5.41 20L4 18.59l7.72-7.72 1.47 1.35L5.41 20z\"/>\n",
              "  </svg>\n",
              "      </button>\n",
              "      \n",
              "  <style>\n",
              "    .colab-df-container {\n",
              "      display:flex;\n",
              "      flex-wrap:wrap;\n",
              "      gap: 12px;\n",
              "    }\n",
              "\n",
              "    .colab-df-convert {\n",
              "      background-color: #E8F0FE;\n",
              "      border: none;\n",
              "      border-radius: 50%;\n",
              "      cursor: pointer;\n",
              "      display: none;\n",
              "      fill: #1967D2;\n",
              "      height: 32px;\n",
              "      padding: 0 0 0 0;\n",
              "      width: 32px;\n",
              "    }\n",
              "\n",
              "    .colab-df-convert:hover {\n",
              "      background-color: #E2EBFA;\n",
              "      box-shadow: 0px 1px 2px rgba(60, 64, 67, 0.3), 0px 1px 3px 1px rgba(60, 64, 67, 0.15);\n",
              "      fill: #174EA6;\n",
              "    }\n",
              "\n",
              "    [theme=dark] .colab-df-convert {\n",
              "      background-color: #3B4455;\n",
              "      fill: #D2E3FC;\n",
              "    }\n",
              "\n",
              "    [theme=dark] .colab-df-convert:hover {\n",
              "      background-color: #434B5C;\n",
              "      box-shadow: 0px 1px 3px 1px rgba(0, 0, 0, 0.15);\n",
              "      filter: drop-shadow(0px 1px 2px rgba(0, 0, 0, 0.3));\n",
              "      fill: #FFFFFF;\n",
              "    }\n",
              "  </style>\n",
              "\n",
              "      <script>\n",
              "        const buttonEl =\n",
              "          document.querySelector('#df-8a9f8633-7843-47e8-a4b7-664b78d58ec8 button.colab-df-convert');\n",
              "        buttonEl.style.display =\n",
              "          google.colab.kernel.accessAllowed ? 'block' : 'none';\n",
              "\n",
              "        async function convertToInteractive(key) {\n",
              "          const element = document.querySelector('#df-8a9f8633-7843-47e8-a4b7-664b78d58ec8');\n",
              "          const dataTable =\n",
              "            await google.colab.kernel.invokeFunction('convertToInteractive',\n",
              "                                                     [key], {});\n",
              "          if (!dataTable) return;\n",
              "\n",
              "          const docLinkHtml = 'Like what you see? Visit the ' +\n",
              "            '<a target=\"_blank\" href=https://colab.research.google.com/notebooks/data_table.ipynb>data table notebook</a>'\n",
              "            + ' to learn more about interactive tables.';\n",
              "          element.innerHTML = '';\n",
              "          dataTable['output_type'] = 'display_data';\n",
              "          await google.colab.output.renderOutput(dataTable, element);\n",
              "          const docLink = document.createElement('div');\n",
              "          docLink.innerHTML = docLinkHtml;\n",
              "          element.appendChild(docLink);\n",
              "        }\n",
              "      </script>\n",
              "    </div>\n",
              "  </div>\n",
              "  "
            ]
          },
          "metadata": {},
          "execution_count": 18
        }
      ]
    },
    {
      "cell_type": "markdown",
      "source": [
        "**Rearranging the dataset in an order**"
      ],
      "metadata": {
        "id": "ZtF8ERPI2q-H"
      }
    },
    {
      "cell_type": "code",
      "source": [
        "df = df[['DATE', 'MONTH', 'YEAR', 'HOURS', 'MINUTES', 'SECONDS', 'f']]"
      ],
      "metadata": {
        "id": "Hj1n0fPwweFe"
      },
      "execution_count": 19,
      "outputs": []
    },
    {
      "cell_type": "code",
      "source": [
        "df"
      ],
      "metadata": {
        "colab": {
          "base_uri": "https://localhost:8080/",
          "height": 423
        },
        "id": "NOMe_85Swiw9",
        "outputId": "ec566dcf-4a6e-4d3e-d5d5-4999af7a195b"
      },
      "execution_count": 20,
      "outputs": [
        {
          "output_type": "execute_result",
          "data": {
            "text/plain": [
              "        DATE MONTH  YEAR HOURS MINUTES SECONDS       f\n",
              "0         01    09  2021    00      00      00  49.923\n",
              "1         01    09  2021    00      00      01  49.916\n",
              "2         01    09  2021    00      00      02  49.908\n",
              "3         01    09  2021    00      00      03  49.901\n",
              "4         01    09  2021    00      00      04  49.899\n",
              "...      ...   ...   ...   ...     ...     ...     ...\n",
              "2591995   30    09  2021    23      59      55  50.052\n",
              "2591996   30    09  2021    23      59      56  50.050\n",
              "2591997   30    09  2021    23      59      57  50.046\n",
              "2591998   30    09  2021    23      59      58  50.044\n",
              "2591999   30    09  2021    23      59      59  50.048\n",
              "\n",
              "[2592000 rows x 7 columns]"
            ],
            "text/html": [
              "\n",
              "  <div id=\"df-15230eea-18cf-4d49-9506-2b5b40e84837\">\n",
              "    <div class=\"colab-df-container\">\n",
              "      <div>\n",
              "<style scoped>\n",
              "    .dataframe tbody tr th:only-of-type {\n",
              "        vertical-align: middle;\n",
              "    }\n",
              "\n",
              "    .dataframe tbody tr th {\n",
              "        vertical-align: top;\n",
              "    }\n",
              "\n",
              "    .dataframe thead th {\n",
              "        text-align: right;\n",
              "    }\n",
              "</style>\n",
              "<table border=\"1\" class=\"dataframe\">\n",
              "  <thead>\n",
              "    <tr style=\"text-align: right;\">\n",
              "      <th></th>\n",
              "      <th>DATE</th>\n",
              "      <th>MONTH</th>\n",
              "      <th>YEAR</th>\n",
              "      <th>HOURS</th>\n",
              "      <th>MINUTES</th>\n",
              "      <th>SECONDS</th>\n",
              "      <th>f</th>\n",
              "    </tr>\n",
              "  </thead>\n",
              "  <tbody>\n",
              "    <tr>\n",
              "      <th>0</th>\n",
              "      <td>01</td>\n",
              "      <td>09</td>\n",
              "      <td>2021</td>\n",
              "      <td>00</td>\n",
              "      <td>00</td>\n",
              "      <td>00</td>\n",
              "      <td>49.923</td>\n",
              "    </tr>\n",
              "    <tr>\n",
              "      <th>1</th>\n",
              "      <td>01</td>\n",
              "      <td>09</td>\n",
              "      <td>2021</td>\n",
              "      <td>00</td>\n",
              "      <td>00</td>\n",
              "      <td>01</td>\n",
              "      <td>49.916</td>\n",
              "    </tr>\n",
              "    <tr>\n",
              "      <th>2</th>\n",
              "      <td>01</td>\n",
              "      <td>09</td>\n",
              "      <td>2021</td>\n",
              "      <td>00</td>\n",
              "      <td>00</td>\n",
              "      <td>02</td>\n",
              "      <td>49.908</td>\n",
              "    </tr>\n",
              "    <tr>\n",
              "      <th>3</th>\n",
              "      <td>01</td>\n",
              "      <td>09</td>\n",
              "      <td>2021</td>\n",
              "      <td>00</td>\n",
              "      <td>00</td>\n",
              "      <td>03</td>\n",
              "      <td>49.901</td>\n",
              "    </tr>\n",
              "    <tr>\n",
              "      <th>4</th>\n",
              "      <td>01</td>\n",
              "      <td>09</td>\n",
              "      <td>2021</td>\n",
              "      <td>00</td>\n",
              "      <td>00</td>\n",
              "      <td>04</td>\n",
              "      <td>49.899</td>\n",
              "    </tr>\n",
              "    <tr>\n",
              "      <th>...</th>\n",
              "      <td>...</td>\n",
              "      <td>...</td>\n",
              "      <td>...</td>\n",
              "      <td>...</td>\n",
              "      <td>...</td>\n",
              "      <td>...</td>\n",
              "      <td>...</td>\n",
              "    </tr>\n",
              "    <tr>\n",
              "      <th>2591995</th>\n",
              "      <td>30</td>\n",
              "      <td>09</td>\n",
              "      <td>2021</td>\n",
              "      <td>23</td>\n",
              "      <td>59</td>\n",
              "      <td>55</td>\n",
              "      <td>50.052</td>\n",
              "    </tr>\n",
              "    <tr>\n",
              "      <th>2591996</th>\n",
              "      <td>30</td>\n",
              "      <td>09</td>\n",
              "      <td>2021</td>\n",
              "      <td>23</td>\n",
              "      <td>59</td>\n",
              "      <td>56</td>\n",
              "      <td>50.050</td>\n",
              "    </tr>\n",
              "    <tr>\n",
              "      <th>2591997</th>\n",
              "      <td>30</td>\n",
              "      <td>09</td>\n",
              "      <td>2021</td>\n",
              "      <td>23</td>\n",
              "      <td>59</td>\n",
              "      <td>57</td>\n",
              "      <td>50.046</td>\n",
              "    </tr>\n",
              "    <tr>\n",
              "      <th>2591998</th>\n",
              "      <td>30</td>\n",
              "      <td>09</td>\n",
              "      <td>2021</td>\n",
              "      <td>23</td>\n",
              "      <td>59</td>\n",
              "      <td>58</td>\n",
              "      <td>50.044</td>\n",
              "    </tr>\n",
              "    <tr>\n",
              "      <th>2591999</th>\n",
              "      <td>30</td>\n",
              "      <td>09</td>\n",
              "      <td>2021</td>\n",
              "      <td>23</td>\n",
              "      <td>59</td>\n",
              "      <td>59</td>\n",
              "      <td>50.048</td>\n",
              "    </tr>\n",
              "  </tbody>\n",
              "</table>\n",
              "<p>2592000 rows × 7 columns</p>\n",
              "</div>\n",
              "      <button class=\"colab-df-convert\" onclick=\"convertToInteractive('df-15230eea-18cf-4d49-9506-2b5b40e84837')\"\n",
              "              title=\"Convert this dataframe to an interactive table.\"\n",
              "              style=\"display:none;\">\n",
              "        \n",
              "  <svg xmlns=\"http://www.w3.org/2000/svg\" height=\"24px\"viewBox=\"0 0 24 24\"\n",
              "       width=\"24px\">\n",
              "    <path d=\"M0 0h24v24H0V0z\" fill=\"none\"/>\n",
              "    <path d=\"M18.56 5.44l.94 2.06.94-2.06 2.06-.94-2.06-.94-.94-2.06-.94 2.06-2.06.94zm-11 1L8.5 8.5l.94-2.06 2.06-.94-2.06-.94L8.5 2.5l-.94 2.06-2.06.94zm10 10l.94 2.06.94-2.06 2.06-.94-2.06-.94-.94-2.06-.94 2.06-2.06.94z\"/><path d=\"M17.41 7.96l-1.37-1.37c-.4-.4-.92-.59-1.43-.59-.52 0-1.04.2-1.43.59L10.3 9.45l-7.72 7.72c-.78.78-.78 2.05 0 2.83L4 21.41c.39.39.9.59 1.41.59.51 0 1.02-.2 1.41-.59l7.78-7.78 2.81-2.81c.8-.78.8-2.07 0-2.86zM5.41 20L4 18.59l7.72-7.72 1.47 1.35L5.41 20z\"/>\n",
              "  </svg>\n",
              "      </button>\n",
              "      \n",
              "  <style>\n",
              "    .colab-df-container {\n",
              "      display:flex;\n",
              "      flex-wrap:wrap;\n",
              "      gap: 12px;\n",
              "    }\n",
              "\n",
              "    .colab-df-convert {\n",
              "      background-color: #E8F0FE;\n",
              "      border: none;\n",
              "      border-radius: 50%;\n",
              "      cursor: pointer;\n",
              "      display: none;\n",
              "      fill: #1967D2;\n",
              "      height: 32px;\n",
              "      padding: 0 0 0 0;\n",
              "      width: 32px;\n",
              "    }\n",
              "\n",
              "    .colab-df-convert:hover {\n",
              "      background-color: #E2EBFA;\n",
              "      box-shadow: 0px 1px 2px rgba(60, 64, 67, 0.3), 0px 1px 3px 1px rgba(60, 64, 67, 0.15);\n",
              "      fill: #174EA6;\n",
              "    }\n",
              "\n",
              "    [theme=dark] .colab-df-convert {\n",
              "      background-color: #3B4455;\n",
              "      fill: #D2E3FC;\n",
              "    }\n",
              "\n",
              "    [theme=dark] .colab-df-convert:hover {\n",
              "      background-color: #434B5C;\n",
              "      box-shadow: 0px 1px 3px 1px rgba(0, 0, 0, 0.15);\n",
              "      filter: drop-shadow(0px 1px 2px rgba(0, 0, 0, 0.3));\n",
              "      fill: #FFFFFF;\n",
              "    }\n",
              "  </style>\n",
              "\n",
              "      <script>\n",
              "        const buttonEl =\n",
              "          document.querySelector('#df-15230eea-18cf-4d49-9506-2b5b40e84837 button.colab-df-convert');\n",
              "        buttonEl.style.display =\n",
              "          google.colab.kernel.accessAllowed ? 'block' : 'none';\n",
              "\n",
              "        async function convertToInteractive(key) {\n",
              "          const element = document.querySelector('#df-15230eea-18cf-4d49-9506-2b5b40e84837');\n",
              "          const dataTable =\n",
              "            await google.colab.kernel.invokeFunction('convertToInteractive',\n",
              "                                                     [key], {});\n",
              "          if (!dataTable) return;\n",
              "\n",
              "          const docLinkHtml = 'Like what you see? Visit the ' +\n",
              "            '<a target=\"_blank\" href=https://colab.research.google.com/notebooks/data_table.ipynb>data table notebook</a>'\n",
              "            + ' to learn more about interactive tables.';\n",
              "          element.innerHTML = '';\n",
              "          dataTable['output_type'] = 'display_data';\n",
              "          await google.colab.output.renderOutput(dataTable, element);\n",
              "          const docLink = document.createElement('div');\n",
              "          docLink.innerHTML = docLinkHtml;\n",
              "          element.appendChild(docLink);\n",
              "        }\n",
              "      </script>\n",
              "    </div>\n",
              "  </div>\n",
              "  "
            ]
          },
          "metadata": {},
          "execution_count": 20
        }
      ]
    },
    {
      "cell_type": "markdown",
      "source": [
        "### Inference of data for ARIMA\n"
      ],
      "metadata": {
        "id": "00hgrIuP7_n_"
      }
    },
    {
      "cell_type": "markdown",
      "source": [
        "**Since it is an ARIMA dataset, the rolling mean and standard deviation is calculated and plotted against the true dataset**"
      ],
      "metadata": {
        "id": "yU7YXV_k2-Yf"
      }
    },
    {
      "cell_type": "code",
      "source": [
        "rolmean = df.rolling(window=60).mean()\n",
        "rolstd = df.rolling(window=12).std()"
      ],
      "metadata": {
        "id": "Fu01GK0oxGJW"
      },
      "execution_count": 21,
      "outputs": []
    },
    {
      "cell_type": "code",
      "source": [
        "plt.style.use('ggplot')\n",
        "plt.plot(df[['f']].head(1000), color='blue')\n",
        "plt.plot(rolmean[['f']].head(1000), color='red')\n",
        "# plt.plot(rolstd[['f']].head(5000), color='blue')"
      ],
      "metadata": {
        "colab": {
          "base_uri": "https://localhost:8080/",
          "height": 282
        },
        "id": "qz-92PE1wpnZ",
        "outputId": "9398b9a1-1442-4235-8cfc-5f08cc8e09a6"
      },
      "execution_count": 22,
      "outputs": [
        {
          "output_type": "execute_result",
          "data": {
            "text/plain": [
              "[<matplotlib.lines.Line2D at 0x7f56984a7710>]"
            ]
          },
          "metadata": {},
          "execution_count": 22
        },
        {
          "output_type": "display_data",
          "data": {
            "text/plain": [
              "<Figure size 432x288 with 1 Axes>"
            ],
            "image/png": "[encoded data removed]"
          },
          "metadata": {}
        }
      ]
    },
    {
      "cell_type": "code",
      "source": [
        "from statsmodels.tsa.stattools import adfuller\n",
        "import pandas.util.testing as tm"
      ],
      "metadata": {
        "id": "raambgpW1NyS",
        "colab": {
          "base_uri": "https://localhost:8080/"
        },
        "outputId": "2cc45289-84c3-4f5f-c6d5-e0048507a0e1"
      },
      "execution_count": 23,
      "outputs": [
        {
          "output_type": "stream",
          "name": "stderr",
          "text": [
            "/usr/local/lib/python3.7/dist-packages/statsmodels/tools/_testing.py:19: FutureWarning: pandas.util.testing is deprecated. Use the functions in the public API at pandas.testing instead.\n",
            "  import pandas.util.testing as tm\n"
          ]
        }
      ]
    },
    {
      "cell_type": "markdown",
      "source": [
        "**Dickey–Fuller test**\n",
        "\n",
        "To keep it simple the p-value should be less than 1."
      ],
      "metadata": {
        "id": "hGMA8k4y3ugI"
      }
    },
    {
      "cell_type": "code",
      "source": [
        "dftest = adfuller(df['f'].head(1000), autolag = 'AIC')\n",
        "dfoutput = pd.Series(dftest[0:4], index = ['Test statistic', 'p-value', '#Lags Used', 'Number of Observations Used'])\n",
        "for key,value in dftest[4].items():\n",
        "  dfoutput['Critical Value (%s)'%key] = value\n",
        "\n",
        "print(dfoutput)\n"
      ],
      "metadata": {
        "colab": {
          "base_uri": "https://localhost:8080/"
        },
        "id": "QY1US9SS4hhg",
        "outputId": "250a387c-178b-4cb2-a4c7-7dad601fc26f"
      },
      "execution_count": 24,
      "outputs": [
        {
          "output_type": "stream",
          "name": "stdout",
          "text": [
            "Test statistic                  -1.387325\n",
            "p-value                          0.588337\n",
            "#Lags Used                       4.000000\n",
            "Number of Observations Used    995.000000\n",
            "Critical Value (1%)             -3.436939\n",
            "Critical Value (5%)             -2.864449\n",
            "Critical Value (10%)            -2.568319\n",
            "dtype: float64\n"
          ]
        }
      ]
    },
    {
      "cell_type": "code",
      "source": [
        "df_logscale = np.log(df['f'].head(3600))"
      ],
      "metadata": {
        "id": "7ZkTpxsn7iQx"
      },
      "execution_count": 25,
      "outputs": []
    },
    {
      "cell_type": "code",
      "source": [
        "plt.plot(df_logscale)\n",
        "# plt.plot(df[['f']].head(1000), color='blue')\n",
        "# plt.plot(rolmean[['f']].head(1000), color='red')\n",
        "rolmean = df_logscale.rolling(window=60).mean()\n",
        "rolstd = df_logscale.rolling(window=12).std()"
      ],
      "metadata": {
        "colab": {
          "base_uri": "https://localhost:8080/",
          "height": 264
        },
        "id": "FHtarNWd5AwT",
        "outputId": "5be899eb-8acf-401b-b42d-85737620de6b"
      },
      "execution_count": 26,
      "outputs": [
        {
          "output_type": "display_data",
          "data": {
            "text/plain": [
              "<Figure size 432x288 with 1 Axes>"
            ],
            "image/png": "[encoded data removed]"
          },
          "metadata": {}
        }
      ]
    },
    {
      "cell_type": "code",
      "source": [
        "plt.plot(df_logscale)\n",
        "plt.plot(rolmean)"
      ],
      "metadata": {
        "colab": {
          "base_uri": "https://localhost:8080/",
          "height": 282
        },
        "id": "Md4ifK_c8UdT",
        "outputId": "374c83a3-ed62-48fd-85f6-796d2a4adbb2"
      },
      "execution_count": 27,
      "outputs": [
        {
          "output_type": "execute_result",
          "data": {
            "text/plain": [
              "[<matplotlib.lines.Line2D at 0x7f56a7f33d50>]"
            ]
          },
          "metadata": {},
          "execution_count": 27
        },
        {
          "output_type": "display_data",
          "data": {
            "text/plain": [
              "<Figure size 432x288 with 1 Axes>"
            ],
            "image/png": "[encoded data removed]"
          },
          "metadata": {}
        }
      ]
    },
    {
      "cell_type": "code",
      "source": [
        "df_cos = np.cos(df['f'].tail(100))"
      ],
      "metadata": {
        "id": "XQrvoDOkE4Pp"
      },
      "execution_count": 28,
      "outputs": []
    },
    {
      "cell_type": "code",
      "source": [
        "plt.plot(df_cos)\n",
        "plt.plot(np.exp(df_cos)-1.7199*(df_cos))"
      ],
      "metadata": {
        "colab": {
          "base_uri": "https://localhost:8080/",
          "height": 295
        },
        "id": "-ylOWJCUHcu5",
        "outputId": "45cb4598-5d67-46e5-9012-ff7bb4e87ea4"
      },
      "execution_count": 29,
      "outputs": [
        {
          "output_type": "execute_result",
          "data": {
            "text/plain": [
              "[<matplotlib.lines.Line2D at 0x7f56a90ef1d0>]"
            ]
          },
          "metadata": {},
          "execution_count": 29
        },
        {
          "output_type": "display_data",
          "data": {
            "text/plain": [
              "<Figure size 432x288 with 1 Axes>"
            ],
            "image/png": "[encoded data removed]"
          },
          "metadata": {}
        }
      ]
    },
    {
      "cell_type": "code",
      "source": [
        "X = df\n",
        "X"
      ],
      "metadata": {
        "id": "6wZtlHFAH4OV",
        "colab": {
          "base_uri": "https://localhost:8080/",
          "height": 423
        },
        "outputId": "02939929-138a-4541-e566-600c5134ceef"
      },
      "execution_count": 30,
      "outputs": [
        {
          "output_type": "execute_result",
          "data": {
            "text/plain": [
              "        DATE MONTH  YEAR HOURS MINUTES SECONDS       f\n",
              "0         01    09  2021    00      00      00  49.923\n",
              "1         01    09  2021    00      00      01  49.916\n",
              "2         01    09  2021    00      00      02  49.908\n",
              "3         01    09  2021    00      00      03  49.901\n",
              "4         01    09  2021    00      00      04  49.899\n",
              "...      ...   ...   ...   ...     ...     ...     ...\n",
              "2591995   30    09  2021    23      59      55  50.052\n",
              "2591996   30    09  2021    23      59      56  50.050\n",
              "2591997   30    09  2021    23      59      57  50.046\n",
              "2591998   30    09  2021    23      59      58  50.044\n",
              "2591999   30    09  2021    23      59      59  50.048\n",
              "\n",
              "[2592000 rows x 7 columns]"
            ],
            "text/html": [
              "\n",
              "  <div id=\"df-c204ecb2-cbea-4534-ab6d-3c04567c5de5\">\n",
              "    <div class=\"colab-df-container\">\n",
              "      <div>\n",
              "<style scoped>\n",
              "    .dataframe tbody tr th:only-of-type {\n",
              "        vertical-align: middle;\n",
              "    }\n",
              "\n",
              "    .dataframe tbody tr th {\n",
              "        vertical-align: top;\n",
              "    }\n",
              "\n",
              "    .dataframe thead th {\n",
              "        text-align: right;\n",
              "    }\n",
              "</style>\n",
              "<table border=\"1\" class=\"dataframe\">\n",
              "  <thead>\n",
              "    <tr style=\"text-align: right;\">\n",
              "      <th></th>\n",
              "      <th>DATE</th>\n",
              "      <th>MONTH</th>\n",
              "      <th>YEAR</th>\n",
              "      <th>HOURS</th>\n",
              "      <th>MINUTES</th>\n",
              "      <th>SECONDS</th>\n",
              "      <th>f</th>\n",
              "    </tr>\n",
              "  </thead>\n",
              "  <tbody>\n",
              "    <tr>\n",
              "      <th>0</th>\n",
              "      <td>01</td>\n",
              "      <td>09</td>\n",
              "      <td>2021</td>\n",
              "      <td>00</td>\n",
              "      <td>00</td>\n",
              "      <td>00</td>\n",
              "      <td>49.923</td>\n",
              "    </tr>\n",
              "    <tr>\n",
              "      <th>1</th>\n",
              "      <td>01</td>\n",
              "      <td>09</td>\n",
              "      <td>2021</td>\n",
              "      <td>00</td>\n",
              "      <td>00</td>\n",
              "      <td>01</td>\n",
              "      <td>49.916</td>\n",
              "    </tr>\n",
              "    <tr>\n",
              "      <th>2</th>\n",
              "      <td>01</td>\n",
              "      <td>09</td>\n",
              "      <td>2021</td>\n",
              "      <td>00</td>\n",
              "      <td>00</td>\n",
              "      <td>02</td>\n",
              "      <td>49.908</td>\n",
              "    </tr>\n",
              "    <tr>\n",
              "      <th>3</th>\n",
              "      <td>01</td>\n",
              "      <td>09</td>\n",
              "      <td>2021</td>\n",
              "      <td>00</td>\n",
              "      <td>00</td>\n",
              "      <td>03</td>\n",
              "      <td>49.901</td>\n",
              "    </tr>\n",
              "    <tr>\n",
              "      <th>4</th>\n",
              "      <td>01</td>\n",
              "      <td>09</td>\n",
              "      <td>2021</td>\n",
              "      <td>00</td>\n",
              "      <td>00</td>\n",
              "      <td>04</td>\n",
              "      <td>49.899</td>\n",
              "    </tr>\n",
              "    <tr>\n",
              "      <th>...</th>\n",
              "      <td>...</td>\n",
              "      <td>...</td>\n",
              "      <td>...</td>\n",
              "      <td>...</td>\n",
              "      <td>...</td>\n",
              "      <td>...</td>\n",
              "      <td>...</td>\n",
              "    </tr>\n",
              "    <tr>\n",
              "      <th>2591995</th>\n",
              "      <td>30</td>\n",
              "      <td>09</td>\n",
              "      <td>2021</td>\n",
              "      <td>23</td>\n",
              "      <td>59</td>\n",
              "      <td>55</td>\n",
              "      <td>50.052</td>\n",
              "    </tr>\n",
              "    <tr>\n",
              "      <th>2591996</th>\n",
              "      <td>30</td>\n",
              "      <td>09</td>\n",
              "      <td>2021</td>\n",
              "      <td>23</td>\n",
              "      <td>59</td>\n",
              "      <td>56</td>\n",
              "      <td>50.050</td>\n",
              "    </tr>\n",
              "    <tr>\n",
              "      <th>2591997</th>\n",
              "      <td>30</td>\n",
              "      <td>09</td>\n",
              "      <td>2021</td>\n",
              "      <td>23</td>\n",
              "      <td>59</td>\n",
              "      <td>57</td>\n",
              "      <td>50.046</td>\n",
              "    </tr>\n",
              "    <tr>\n",
              "      <th>2591998</th>\n",
              "      <td>30</td>\n",
              "      <td>09</td>\n",
              "      <td>2021</td>\n",
              "      <td>23</td>\n",
              "      <td>59</td>\n",
              "      <td>58</td>\n",
              "      <td>50.044</td>\n",
              "    </tr>\n",
              "    <tr>\n",
              "      <th>2591999</th>\n",
              "      <td>30</td>\n",
              "      <td>09</td>\n",
              "      <td>2021</td>\n",
              "      <td>23</td>\n",
              "      <td>59</td>\n",
              "      <td>59</td>\n",
              "      <td>50.048</td>\n",
              "    </tr>\n",
              "  </tbody>\n",
              "</table>\n",
              "<p>2592000 rows × 7 columns</p>\n",
              "</div>\n",
              "      <button class=\"colab-df-convert\" onclick=\"convertToInteractive('df-c204ecb2-cbea-4534-ab6d-3c04567c5de5')\"\n",
              "              title=\"Convert this dataframe to an interactive table.\"\n",
              "              style=\"display:none;\">\n",
              "        \n",
              "  <svg xmlns=\"http://www.w3.org/2000/svg\" height=\"24px\"viewBox=\"0 0 24 24\"\n",
              "       width=\"24px\">\n",
              "    <path d=\"M0 0h24v24H0V0z\" fill=\"none\"/>\n",
              "    <path d=\"M18.56 5.44l.94 2.06.94-2.06 2.06-.94-2.06-.94-.94-2.06-.94 2.06-2.06.94zm-11 1L8.5 8.5l.94-2.06 2.06-.94-2.06-.94L8.5 2.5l-.94 2.06-2.06.94zm10 10l.94 2.06.94-2.06 2.06-.94-2.06-.94-.94-2.06-.94 2.06-2.06.94z\"/><path d=\"M17.41 7.96l-1.37-1.37c-.4-.4-.92-.59-1.43-.59-.52 0-1.04.2-1.43.59L10.3 9.45l-7.72 7.72c-.78.78-.78 2.05 0 2.83L4 21.41c.39.39.9.59 1.41.59.51 0 1.02-.2 1.41-.59l7.78-7.78 2.81-2.81c.8-.78.8-2.07 0-2.86zM5.41 20L4 18.59l7.72-7.72 1.47 1.35L5.41 20z\"/>\n",
              "  </svg>\n",
              "      </button>\n",
              "      \n",
              "  <style>\n",
              "    .colab-df-container {\n",
              "      display:flex;\n",
              "      flex-wrap:wrap;\n",
              "      gap: 12px;\n",
              "    }\n",
              "\n",
              "    .colab-df-convert {\n",
              "      background-color: #E8F0FE;\n",
              "      border: none;\n",
              "      border-radius: 50%;\n",
              "      cursor: pointer;\n",
              "      display: none;\n",
              "      fill: #1967D2;\n",
              "      height: 32px;\n",
              "      padding: 0 0 0 0;\n",
              "      width: 32px;\n",
              "    }\n",
              "\n",
              "    .colab-df-convert:hover {\n",
              "      background-color: #E2EBFA;\n",
              "      box-shadow: 0px 1px 2px rgba(60, 64, 67, 0.3), 0px 1px 3px 1px rgba(60, 64, 67, 0.15);\n",
              "      fill: #174EA6;\n",
              "    }\n",
              "\n",
              "    [theme=dark] .colab-df-convert {\n",
              "      background-color: #3B4455;\n",
              "      fill: #D2E3FC;\n",
              "    }\n",
              "\n",
              "    [theme=dark] .colab-df-convert:hover {\n",
              "      background-color: #434B5C;\n",
              "      box-shadow: 0px 1px 3px 1px rgba(0, 0, 0, 0.15);\n",
              "      filter: drop-shadow(0px 1px 2px rgba(0, 0, 0, 0.3));\n",
              "      fill: #FFFFFF;\n",
              "    }\n",
              "  </style>\n",
              "\n",
              "      <script>\n",
              "        const buttonEl =\n",
              "          document.querySelector('#df-c204ecb2-cbea-4534-ab6d-3c04567c5de5 button.colab-df-convert');\n",
              "        buttonEl.style.display =\n",
              "          google.colab.kernel.accessAllowed ? 'block' : 'none';\n",
              "\n",
              "        async function convertToInteractive(key) {\n",
              "          const element = document.querySelector('#df-c204ecb2-cbea-4534-ab6d-3c04567c5de5');\n",
              "          const dataTable =\n",
              "            await google.colab.kernel.invokeFunction('convertToInteractive',\n",
              "                                                     [key], {});\n",
              "          if (!dataTable) return;\n",
              "\n",
              "          const docLinkHtml = 'Like what you see? Visit the ' +\n",
              "            '<a target=\"_blank\" href=https://colab.research.google.com/notebooks/data_table.ipynb>data table notebook</a>'\n",
              "            + ' to learn more about interactive tables.';\n",
              "          element.innerHTML = '';\n",
              "          dataTable['output_type'] = 'display_data';\n",
              "          await google.colab.output.renderOutput(dataTable, element);\n",
              "          const docLink = document.createElement('div');\n",
              "          docLink.innerHTML = docLinkHtml;\n",
              "          element.appendChild(docLink);\n",
              "        }\n",
              "      </script>\n",
              "    </div>\n",
              "  </div>\n",
              "  "
            ]
          },
          "metadata": {},
          "execution_count": 30
        }
      ]
    },
    {
      "cell_type": "markdown",
      "source": [
        "**Scaling the frequency data to the value below 1 so that the mean absolute error is more easily interpreted as a fraction of the maximum demand.**"
      ],
      "metadata": {
        "id": "PyB4E8ZQ8YF6"
      }
    },
    {
      "cell_type": "code",
      "source": [
        "y = df['f']/df['f'].max()"
      ],
      "metadata": {
        "id": "oPkKJfeCVq7P"
      },
      "execution_count": 31,
      "outputs": []
    },
    {
      "cell_type": "markdown",
      "source": [
        "**Maximum value of the frequency**"
      ],
      "metadata": {
        "id": "gVyrin5x8OpF"
      }
    },
    {
      "cell_type": "code",
      "source": [
        "df['f'].max()"
      ],
      "metadata": {
        "colab": {
          "base_uri": "https://localhost:8080/"
        },
        "id": "vA-o5CLsqNxp",
        "outputId": "90bf7d7d-5548-47e3-ed1c-cb6ca233864e"
      },
      "execution_count": 32,
      "outputs": [
        {
          "output_type": "execute_result",
          "data": {
            "text/plain": [
              "50.322"
            ]
          },
          "metadata": {},
          "execution_count": 32
        }
      ]
    },
    {
      "cell_type": "markdown",
      "source": [
        "**removing the frequency value from the dataset and storing it a seperate variable so as to determine the future trends of the values using ML** "
      ],
      "metadata": {
        "id": "3TolpDQa9mAe"
      }
    },
    {
      "cell_type": "code",
      "source": [
        "X = df[['DATE', 'MONTH', 'YEAR', 'HOURS', 'MINUTES', 'SECONDS']]"
      ],
      "metadata": {
        "id": "1AoLzskKkgen"
      },
      "execution_count": 33,
      "outputs": []
    },
    {
      "cell_type": "code",
      "source": [
        "X"
      ],
      "metadata": {
        "colab": {
          "base_uri": "https://localhost:8080/",
          "height": 423
        },
        "id": "q-issLL7kmz_",
        "outputId": "6ef8528d-bb7e-4e6a-fab5-c73da6c8d3ea"
      },
      "execution_count": 34,
      "outputs": [
        {
          "output_type": "execute_result",
          "data": {
            "text/plain": [
              "        DATE MONTH  YEAR HOURS MINUTES SECONDS\n",
              "0         01    09  2021    00      00      00\n",
              "1         01    09  2021    00      00      01\n",
              "2         01    09  2021    00      00      02\n",
              "3         01    09  2021    00      00      03\n",
              "4         01    09  2021    00      00      04\n",
              "...      ...   ...   ...   ...     ...     ...\n",
              "2591995   30    09  2021    23      59      55\n",
              "2591996   30    09  2021    23      59      56\n",
              "2591997   30    09  2021    23      59      57\n",
              "2591998   30    09  2021    23      59      58\n",
              "2591999   30    09  2021    23      59      59\n",
              "\n",
              "[2592000 rows x 6 columns]"
            ],
            "text/html": [
              "\n",
              "  <div id=\"df-71bf2411-6d32-4bba-a0b0-fc7b67670440\">\n",
              "    <div class=\"colab-df-container\">\n",
              "      <div>\n",
              "<style scoped>\n",
              "    .dataframe tbody tr th:only-of-type {\n",
              "        vertical-align: middle;\n",
              "    }\n",
              "\n",
              "    .dataframe tbody tr th {\n",
              "        vertical-align: top;\n",
              "    }\n",
              "\n",
              "    .dataframe thead th {\n",
              "        text-align: right;\n",
              "    }\n",
              "</style>\n",
              "<table border=\"1\" class=\"dataframe\">\n",
              "  <thead>\n",
              "    <tr style=\"text-align: right;\">\n",
              "      <th></th>\n",
              "      <th>DATE</th>\n",
              "      <th>MONTH</th>\n",
              "      <th>YEAR</th>\n",
              "      <th>HOURS</th>\n",
              "      <th>MINUTES</th>\n",
              "      <th>SECONDS</th>\n",
              "    </tr>\n",
              "  </thead>\n",
              "  <tbody>\n",
              "    <tr>\n",
              "      <th>0</th>\n",
              "      <td>01</td>\n",
              "      <td>09</td>\n",
              "      <td>2021</td>\n",
              "      <td>00</td>\n",
              "      <td>00</td>\n",
              "      <td>00</td>\n",
              "    </tr>\n",
              "    <tr>\n",
              "      <th>1</th>\n",
              "      <td>01</td>\n",
              "      <td>09</td>\n",
              "      <td>2021</td>\n",
              "      <td>00</td>\n",
              "      <td>00</td>\n",
              "      <td>01</td>\n",
              "    </tr>\n",
              "    <tr>\n",
              "      <th>2</th>\n",
              "      <td>01</td>\n",
              "      <td>09</td>\n",
              "      <td>2021</td>\n",
              "      <td>00</td>\n",
              "      <td>00</td>\n",
              "      <td>02</td>\n",
              "    </tr>\n",
              "    <tr>\n",
              "      <th>3</th>\n",
              "      <td>01</td>\n",
              "      <td>09</td>\n",
              "      <td>2021</td>\n",
              "      <td>00</td>\n",
              "      <td>00</td>\n",
              "      <td>03</td>\n",
              "    </tr>\n",
              "    <tr>\n",
              "      <th>4</th>\n",
              "      <td>01</td>\n",
              "      <td>09</td>\n",
              "      <td>2021</td>\n",
              "      <td>00</td>\n",
              "      <td>00</td>\n",
              "      <td>04</td>\n",
              "    </tr>\n",
              "    <tr>\n",
              "      <th>...</th>\n",
              "      <td>...</td>\n",
              "      <td>...</td>\n",
              "      <td>...</td>\n",
              "      <td>...</td>\n",
              "      <td>...</td>\n",
              "      <td>...</td>\n",
              "    </tr>\n",
              "    <tr>\n",
              "      <th>2591995</th>\n",
              "      <td>30</td>\n",
              "      <td>09</td>\n",
              "      <td>2021</td>\n",
              "      <td>23</td>\n",
              "      <td>59</td>\n",
              "      <td>55</td>\n",
              "    </tr>\n",
              "    <tr>\n",
              "      <th>2591996</th>\n",
              "      <td>30</td>\n",
              "      <td>09</td>\n",
              "      <td>2021</td>\n",
              "      <td>23</td>\n",
              "      <td>59</td>\n",
              "      <td>56</td>\n",
              "    </tr>\n",
              "    <tr>\n",
              "      <th>2591997</th>\n",
              "      <td>30</td>\n",
              "      <td>09</td>\n",
              "      <td>2021</td>\n",
              "      <td>23</td>\n",
              "      <td>59</td>\n",
              "      <td>57</td>\n",
              "    </tr>\n",
              "    <tr>\n",
              "      <th>2591998</th>\n",
              "      <td>30</td>\n",
              "      <td>09</td>\n",
              "      <td>2021</td>\n",
              "      <td>23</td>\n",
              "      <td>59</td>\n",
              "      <td>58</td>\n",
              "    </tr>\n",
              "    <tr>\n",
              "      <th>2591999</th>\n",
              "      <td>30</td>\n",
              "      <td>09</td>\n",
              "      <td>2021</td>\n",
              "      <td>23</td>\n",
              "      <td>59</td>\n",
              "      <td>59</td>\n",
              "    </tr>\n",
              "  </tbody>\n",
              "</table>\n",
              "<p>2592000 rows × 6 columns</p>\n",
              "</div>\n",
              "      <button class=\"colab-df-convert\" onclick=\"convertToInteractive('df-71bf2411-6d32-4bba-a0b0-fc7b67670440')\"\n",
              "              title=\"Convert this dataframe to an interactive table.\"\n",
              "              style=\"display:none;\">\n",
              "        \n",
              "  <svg xmlns=\"http://www.w3.org/2000/svg\" height=\"24px\"viewBox=\"0 0 24 24\"\n",
              "       width=\"24px\">\n",
              "    <path d=\"M0 0h24v24H0V0z\" fill=\"none\"/>\n",
              "    <path d=\"M18.56 5.44l.94 2.06.94-2.06 2.06-.94-2.06-.94-.94-2.06-.94 2.06-2.06.94zm-11 1L8.5 8.5l.94-2.06 2.06-.94-2.06-.94L8.5 2.5l-.94 2.06-2.06.94zm10 10l.94 2.06.94-2.06 2.06-.94-2.06-.94-.94-2.06-.94 2.06-2.06.94z\"/><path d=\"M17.41 7.96l-1.37-1.37c-.4-.4-.92-.59-1.43-.59-.52 0-1.04.2-1.43.59L10.3 9.45l-7.72 7.72c-.78.78-.78 2.05 0 2.83L4 21.41c.39.39.9.59 1.41.59.51 0 1.02-.2 1.41-.59l7.78-7.78 2.81-2.81c.8-.78.8-2.07 0-2.86zM5.41 20L4 18.59l7.72-7.72 1.47 1.35L5.41 20z\"/>\n",
              "  </svg>\n",
              "      </button>\n",
              "      \n",
              "  <style>\n",
              "    .colab-df-container {\n",
              "      display:flex;\n",
              "      flex-wrap:wrap;\n",
              "      gap: 12px;\n",
              "    }\n",
              "\n",
              "    .colab-df-convert {\n",
              "      background-color: #E8F0FE;\n",
              "      border: none;\n",
              "      border-radius: 50%;\n",
              "      cursor: pointer;\n",
              "      display: none;\n",
              "      fill: #1967D2;\n",
              "      height: 32px;\n",
              "      padding: 0 0 0 0;\n",
              "      width: 32px;\n",
              "    }\n",
              "\n",
              "    .colab-df-convert:hover {\n",
              "      background-color: #E2EBFA;\n",
              "      box-shadow: 0px 1px 2px rgba(60, 64, 67, 0.3), 0px 1px 3px 1px rgba(60, 64, 67, 0.15);\n",
              "      fill: #174EA6;\n",
              "    }\n",
              "\n",
              "    [theme=dark] .colab-df-convert {\n",
              "      background-color: #3B4455;\n",
              "      fill: #D2E3FC;\n",
              "    }\n",
              "\n",
              "    [theme=dark] .colab-df-convert:hover {\n",
              "      background-color: #434B5C;\n",
              "      box-shadow: 0px 1px 3px 1px rgba(0, 0, 0, 0.15);\n",
              "      filter: drop-shadow(0px 1px 2px rgba(0, 0, 0, 0.3));\n",
              "      fill: #FFFFFF;\n",
              "    }\n",
              "  </style>\n",
              "\n",
              "      <script>\n",
              "        const buttonEl =\n",
              "          document.querySelector('#df-71bf2411-6d32-4bba-a0b0-fc7b67670440 button.colab-df-convert');\n",
              "        buttonEl.style.display =\n",
              "          google.colab.kernel.accessAllowed ? 'block' : 'none';\n",
              "\n",
              "        async function convertToInteractive(key) {\n",
              "          const element = document.querySelector('#df-71bf2411-6d32-4bba-a0b0-fc7b67670440');\n",
              "          const dataTable =\n",
              "            await google.colab.kernel.invokeFunction('convertToInteractive',\n",
              "                                                     [key], {});\n",
              "          if (!dataTable) return;\n",
              "\n",
              "          const docLinkHtml = 'Like what you see? Visit the ' +\n",
              "            '<a target=\"_blank\" href=https://colab.research.google.com/notebooks/data_table.ipynb>data table notebook</a>'\n",
              "            + ' to learn more about interactive tables.';\n",
              "          element.innerHTML = '';\n",
              "          dataTable['output_type'] = 'display_data';\n",
              "          await google.colab.output.renderOutput(dataTable, element);\n",
              "          const docLink = document.createElement('div');\n",
              "          docLink.innerHTML = docLinkHtml;\n",
              "          element.appendChild(docLink);\n",
              "        }\n",
              "      </script>\n",
              "    </div>\n",
              "  </div>\n",
              "  "
            ]
          },
          "metadata": {},
          "execution_count": 34
        }
      ]
    },
    {
      "cell_type": "markdown",
      "source": [
        "**Scaled frequency values**"
      ],
      "metadata": {
        "id": "JRj8pvlV-Ay8"
      }
    },
    {
      "cell_type": "code",
      "source": [
        "y"
      ],
      "metadata": {
        "colab": {
          "base_uri": "https://localhost:8080/"
        },
        "id": "H2zZjx3IZMAC",
        "outputId": "9773ad04-b1c9-47e5-de16-4a64f740cd2f"
      },
      "execution_count": 35,
      "outputs": [
        {
          "output_type": "execute_result",
          "data": {
            "text/plain": [
              "0          0.992071\n",
              "1          0.991932\n",
              "2          0.991773\n",
              "3          0.991634\n",
              "4          0.991594\n",
              "             ...   \n",
              "2591995    0.994635\n",
              "2591996    0.994595\n",
              "2591997    0.994515\n",
              "2591998    0.994476\n",
              "2591999    0.994555\n",
              "Name: f, Length: 2592000, dtype: float64"
            ]
          },
          "metadata": {},
          "execution_count": 35
        }
      ]
    },
    {
      "cell_type": "code",
      "source": [
        "from sklearn.model_selection import TimeSeriesSplit\n",
        "\n",
        "ts_cv = TimeSeriesSplit(\n",
        "    n_splits=5,\n",
        "    gap=48,\n",
        "    max_train_size=10000,\n",
        "    test_size=1000,\n",
        ")"
      ],
      "metadata": {
        "id": "vcW46qwzQt4s"
      },
      "execution_count": 36,
      "outputs": []
    },
    {
      "cell_type": "code",
      "source": [
        "X"
      ],
      "metadata": {
        "colab": {
          "base_uri": "https://localhost:8080/",
          "height": 423
        },
        "id": "q8iovR0QY9j6",
        "outputId": "b941722c-95db-4199-fc7d-3abdc11ff8d3"
      },
      "execution_count": 37,
      "outputs": [
        {
          "output_type": "execute_result",
          "data": {
            "text/plain": [
              "        DATE MONTH  YEAR HOURS MINUTES SECONDS\n",
              "0         01    09  2021    00      00      00\n",
              "1         01    09  2021    00      00      01\n",
              "2         01    09  2021    00      00      02\n",
              "3         01    09  2021    00      00      03\n",
              "4         01    09  2021    00      00      04\n",
              "...      ...   ...   ...   ...     ...     ...\n",
              "2591995   30    09  2021    23      59      55\n",
              "2591996   30    09  2021    23      59      56\n",
              "2591997   30    09  2021    23      59      57\n",
              "2591998   30    09  2021    23      59      58\n",
              "2591999   30    09  2021    23      59      59\n",
              "\n",
              "[2592000 rows x 6 columns]"
            ],
            "text/html": [
              "\n",
              "  <div id=\"df-1de0cf97-b481-4a03-8f57-0c6f141bb923\">\n",
              "    <div class=\"colab-df-container\">\n",
              "      <div>\n",
              "<style scoped>\n",
              "    .dataframe tbody tr th:only-of-type {\n",
              "        vertical-align: middle;\n",
              "    }\n",
              "\n",
              "    .dataframe tbody tr th {\n",
              "        vertical-align: top;\n",
              "    }\n",
              "\n",
              "    .dataframe thead th {\n",
              "        text-align: right;\n",
              "    }\n",
              "</style>\n",
              "<table border=\"1\" class=\"dataframe\">\n",
              "  <thead>\n",
              "    <tr style=\"text-align: right;\">\n",
              "      <th></th>\n",
              "      <th>DATE</th>\n",
              "      <th>MONTH</th>\n",
              "      <th>YEAR</th>\n",
              "      <th>HOURS</th>\n",
              "      <th>MINUTES</th>\n",
              "      <th>SECONDS</th>\n",
              "    </tr>\n",
              "  </thead>\n",
              "  <tbody>\n",
              "    <tr>\n",
              "      <th>0</th>\n",
              "      <td>01</td>\n",
              "      <td>09</td>\n",
              "      <td>2021</td>\n",
              "      <td>00</td>\n",
              "      <td>00</td>\n",
              "      <td>00</td>\n",
              "    </tr>\n",
              "    <tr>\n",
              "      <th>1</th>\n",
              "      <td>01</td>\n",
              "      <td>09</td>\n",
              "      <td>2021</td>\n",
              "      <td>00</td>\n",
              "      <td>00</td>\n",
              "      <td>01</td>\n",
              "    </tr>\n",
              "    <tr>\n",
              "      <th>2</th>\n",
              "      <td>01</td>\n",
              "      <td>09</td>\n",
              "      <td>2021</td>\n",
              "      <td>00</td>\n",
              "      <td>00</td>\n",
              "      <td>02</td>\n",
              "    </tr>\n",
              "    <tr>\n",
              "      <th>3</th>\n",
              "      <td>01</td>\n",
              "      <td>09</td>\n",
              "      <td>2021</td>\n",
              "      <td>00</td>\n",
              "      <td>00</td>\n",
              "      <td>03</td>\n",
              "    </tr>\n",
              "    <tr>\n",
              "      <th>4</th>\n",
              "      <td>01</td>\n",
              "      <td>09</td>\n",
              "      <td>2021</td>\n",
              "      <td>00</td>\n",
              "      <td>00</td>\n",
              "      <td>04</td>\n",
              "    </tr>\n",
              "    <tr>\n",
              "      <th>...</th>\n",
              "      <td>...</td>\n",
              "      <td>...</td>\n",
              "      <td>...</td>\n",
              "      <td>...</td>\n",
              "      <td>...</td>\n",
              "      <td>...</td>\n",
              "    </tr>\n",
              "    <tr>\n",
              "      <th>2591995</th>\n",
              "      <td>30</td>\n",
              "      <td>09</td>\n",
              "      <td>2021</td>\n",
              "      <td>23</td>\n",
              "      <td>59</td>\n",
              "      <td>55</td>\n",
              "    </tr>\n",
              "    <tr>\n",
              "      <th>2591996</th>\n",
              "      <td>30</td>\n",
              "      <td>09</td>\n",
              "      <td>2021</td>\n",
              "      <td>23</td>\n",
              "      <td>59</td>\n",
              "      <td>56</td>\n",
              "    </tr>\n",
              "    <tr>\n",
              "      <th>2591997</th>\n",
              "      <td>30</td>\n",
              "      <td>09</td>\n",
              "      <td>2021</td>\n",
              "      <td>23</td>\n",
              "      <td>59</td>\n",
              "      <td>57</td>\n",
              "    </tr>\n",
              "    <tr>\n",
              "      <th>2591998</th>\n",
              "      <td>30</td>\n",
              "      <td>09</td>\n",
              "      <td>2021</td>\n",
              "      <td>23</td>\n",
              "      <td>59</td>\n",
              "      <td>58</td>\n",
              "    </tr>\n",
              "    <tr>\n",
              "      <th>2591999</th>\n",
              "      <td>30</td>\n",
              "      <td>09</td>\n",
              "      <td>2021</td>\n",
              "      <td>23</td>\n",
              "      <td>59</td>\n",
              "      <td>59</td>\n",
              "    </tr>\n",
              "  </tbody>\n",
              "</table>\n",
              "<p>2592000 rows × 6 columns</p>\n",
              "</div>\n",
              "      <button class=\"colab-df-convert\" onclick=\"convertToInteractive('df-1de0cf97-b481-4a03-8f57-0c6f141bb923')\"\n",
              "              title=\"Convert this dataframe to an interactive table.\"\n",
              "              style=\"display:none;\">\n",
              "        \n",
              "  <svg xmlns=\"http://www.w3.org/2000/svg\" height=\"24px\"viewBox=\"0 0 24 24\"\n",
              "       width=\"24px\">\n",
              "    <path d=\"M0 0h24v24H0V0z\" fill=\"none\"/>\n",
              "    <path d=\"M18.56 5.44l.94 2.06.94-2.06 2.06-.94-2.06-.94-.94-2.06-.94 2.06-2.06.94zm-11 1L8.5 8.5l.94-2.06 2.06-.94-2.06-.94L8.5 2.5l-.94 2.06-2.06.94zm10 10l.94 2.06.94-2.06 2.06-.94-2.06-.94-.94-2.06-.94 2.06-2.06.94z\"/><path d=\"M17.41 7.96l-1.37-1.37c-.4-.4-.92-.59-1.43-.59-.52 0-1.04.2-1.43.59L10.3 9.45l-7.72 7.72c-.78.78-.78 2.05 0 2.83L4 21.41c.39.39.9.59 1.41.59.51 0 1.02-.2 1.41-.59l7.78-7.78 2.81-2.81c.8-.78.8-2.07 0-2.86zM5.41 20L4 18.59l7.72-7.72 1.47 1.35L5.41 20z\"/>\n",
              "  </svg>\n",
              "      </button>\n",
              "      \n",
              "  <style>\n",
              "    .colab-df-container {\n",
              "      display:flex;\n",
              "      flex-wrap:wrap;\n",
              "      gap: 12px;\n",
              "    }\n",
              "\n",
              "    .colab-df-convert {\n",
              "      background-color: #E8F0FE;\n",
              "      border: none;\n",
              "      border-radius: 50%;\n",
              "      cursor: pointer;\n",
              "      display: none;\n",
              "      fill: #1967D2;\n",
              "      height: 32px;\n",
              "      padding: 0 0 0 0;\n",
              "      width: 32px;\n",
              "    }\n",
              "\n",
              "    .colab-df-convert:hover {\n",
              "      background-color: #E2EBFA;\n",
              "      box-shadow: 0px 1px 2px rgba(60, 64, 67, 0.3), 0px 1px 3px 1px rgba(60, 64, 67, 0.15);\n",
              "      fill: #174EA6;\n",
              "    }\n",
              "\n",
              "    [theme=dark] .colab-df-convert {\n",
              "      background-color: #3B4455;\n",
              "      fill: #D2E3FC;\n",
              "    }\n",
              "\n",
              "    [theme=dark] .colab-df-convert:hover {\n",
              "      background-color: #434B5C;\n",
              "      box-shadow: 0px 1px 3px 1px rgba(0, 0, 0, 0.15);\n",
              "      filter: drop-shadow(0px 1px 2px rgba(0, 0, 0, 0.3));\n",
              "      fill: #FFFFFF;\n",
              "    }\n",
              "  </style>\n",
              "\n",
              "      <script>\n",
              "        const buttonEl =\n",
              "          document.querySelector('#df-1de0cf97-b481-4a03-8f57-0c6f141bb923 button.colab-df-convert');\n",
              "        buttonEl.style.display =\n",
              "          google.colab.kernel.accessAllowed ? 'block' : 'none';\n",
              "\n",
              "        async function convertToInteractive(key) {\n",
              "          const element = document.querySelector('#df-1de0cf97-b481-4a03-8f57-0c6f141bb923');\n",
              "          const dataTable =\n",
              "            await google.colab.kernel.invokeFunction('convertToInteractive',\n",
              "                                                     [key], {});\n",
              "          if (!dataTable) return;\n",
              "\n",
              "          const docLinkHtml = 'Like what you see? Visit the ' +\n",
              "            '<a target=\"_blank\" href=https://colab.research.google.com/notebooks/data_table.ipynb>data table notebook</a>'\n",
              "            + ' to learn more about interactive tables.';\n",
              "          element.innerHTML = '';\n",
              "          dataTable['output_type'] = 'display_data';\n",
              "          await google.colab.output.renderOutput(dataTable, element);\n",
              "          const docLink = document.createElement('div');\n",
              "          docLink.innerHTML = docLinkHtml;\n",
              "          element.appendChild(docLink);\n",
              "        }\n",
              "      </script>\n",
              "    </div>\n",
              "  </div>\n",
              "  "
            ]
          },
          "metadata": {},
          "execution_count": 37
        }
      ]
    },
    {
      "cell_type": "code",
      "source": [
        "from sklearn.pipeline import make_pipeline\n",
        "from sklearn.preprocessing import OrdinalEncoder\n",
        "from sklearn.compose import ColumnTransformer\n",
        "from sklearn.ensemble import HistGradientBoostingRegressor\n",
        "from sklearn.model_selection import cross_validate\n",
        "\n",
        "\n",
        "categorical_columns = [\n",
        "]\n",
        "categories = [\n",
        "]\n",
        "ordinal_encoder = OrdinalEncoder(categories=categories)\n",
        "\n",
        "\n",
        "gbrt_pipeline = make_pipeline(\n",
        "    ColumnTransformer(\n",
        "        transformers=[\n",
        "            (\"categorical\", ordinal_encoder, categorical_columns),\n",
        "        ],\n",
        "        remainder=\"passthrough\",\n",
        "    ),\n",
        "    HistGradientBoostingRegressor(\n",
        "        categorical_features=range(4),\n",
        "    ),\n",
        ")"
      ],
      "metadata": {
        "id": "UERaF7nUU-ok"
      },
      "execution_count": 38,
      "outputs": []
    },
    {
      "cell_type": "markdown",
      "source": [
        "**Model evaluation for Machine Learning**"
      ],
      "metadata": {
        "id": "8kR8mFcZ-Ieo"
      }
    },
    {
      "cell_type": "code",
      "source": [
        "def evaluate(model, X, y, cv):\n",
        "    cv_results = cross_validate(\n",
        "        model,\n",
        "        X,\n",
        "        y,\n",
        "        cv=cv,\n",
        "        scoring=[\"neg_mean_absolute_error\", \"neg_root_mean_squared_error\"],\n",
        "    )\n",
        "    mae = -cv_results[\"test_neg_mean_absolute_error\"]\n",
        "    rmse = -cv_results[\"test_neg_root_mean_squared_error\"]\n",
        "    print(\n",
        "        f\"Mean Absolute Error:     {mae.mean():.3f} +/- {mae.std():.3f}\\n\"\n",
        "        f\"Root Mean Squared Error: {rmse.mean():.3f} +/- {rmse.std():.3f}\"\n",
        "    )\n"
      ],
      "metadata": {
        "id": "7lsTATHEVMT8"
      },
      "execution_count": 39,
      "outputs": []
    },
    {
      "cell_type": "markdown",
      "source": [
        "### An approoch to predict the future data\n",
        "\n",
        "**Importing Sklearn libraries for performing ML**"
      ],
      "metadata": {
        "id": "hb7rFdDqDVpq"
      }
    },
    {
      "cell_type": "code",
      "source": [
        "from sklearn.pipeline import make_pipeline\n",
        "from sklearn.preprocessing import OrdinalEncoder\n",
        "from sklearn.compose import ColumnTransformer\n",
        "from sklearn.ensemble import HistGradientBoostingRegressor\n",
        "from sklearn.model_selection import cross_validate\n",
        "from sklearn.preprocessing import OneHotEncoder\n",
        "from sklearn.preprocessing import MinMaxScaler\n",
        "from sklearn.linear_model import RidgeCV\n",
        "import numpy as np\n",
        "from sklearn import *\n",
        "from sklearn.kernel_approximation import Nystroem"
      ],
      "metadata": {
        "id": "WUvwCe2GV4fa"
      },
      "execution_count": 40,
      "outputs": []
    },
    {
      "cell_type": "markdown",
      "source": [
        "**Model Creation :- One hot encorder algorithm definition**\n"
      ],
      "metadata": {
        "id": "X2ykHDU1-ST3"
      }
    },
    {
      "cell_type": "code",
      "source": [
        "one_hot_encoder = OneHotEncoder(handle_unknown=\"ignore\", sparse=False)\n",
        "alphas = np.logspace(-6, 6, 5)\n",
        "naive_linear_pipeline = make_pipeline(\n",
        "    ColumnTransformer(\n",
        "        transformers=[\n",
        "            (\"categorical\", one_hot_encoder, categorical_columns),\n",
        "        ],\n",
        "        remainder=MinMaxScaler(),\n",
        "    ),\n",
        "    RidgeCV(alphas=alphas),\n",
        ")\n"
      ],
      "metadata": {
        "id": "krDLrdmrWPeE"
      },
      "execution_count": 41,
      "outputs": []
    },
    {
      "cell_type": "markdown",
      "source": [
        "**Model Creation :- One hot linear encorder algorithm **"
      ],
      "metadata": {
        "id": "YLIAcbp4-bp6"
      }
    },
    {
      "cell_type": "code",
      "source": [
        "one_hot_linear_pipeline = make_pipeline(\n",
        "    ColumnTransformer(\n",
        "        transformers=[\n",
        "            (\"categorical\", one_hot_encoder, categorical_columns),\n",
        "            (\"one_hot_time\", one_hot_encoder, [\"YEAR\", \"MONTH\", \"HOURS\", \"MINUTES\", \"SECONDS\"]),\n",
        "        ],\n",
        "        remainder=MinMaxScaler(),\n",
        "    ),\n",
        "    RidgeCV(alphas=alphas),\n",
        ")\n",
        "\n",
        "evaluate(one_hot_linear_pipeline, X, y, cv=ts_cv)"
      ],
      "metadata": {
        "colab": {
          "base_uri": "https://localhost:8080/"
        },
        "id": "XgUm9pG0VPIw",
        "outputId": "7e2527dc-7eae-4f64-f19d-6029106ad1b9"
      },
      "execution_count": 42,
      "outputs": [
        {
          "output_type": "stream",
          "name": "stdout",
          "text": [
            "Mean Absolute Error:     0.001 +/- 0.001\n",
            "Root Mean Squared Error: 0.001 +/- 0.001\n"
          ]
        }
      ]
    },
    {
      "cell_type": "markdown",
      "source": [
        "**Model Creation :- One hot polynomial encorder algorithm **"
      ],
      "metadata": {
        "id": "HOypOYSy-j2n"
      }
    },
    {
      "cell_type": "code",
      "source": [
        "one_hot_poly_pipeline = make_pipeline(\n",
        "    ColumnTransformer(\n",
        "        transformers=[\n",
        "            (\"categorical\", one_hot_encoder, categorical_columns),\n",
        "            (\"one_hot_time\", one_hot_encoder, [\"YEAR\", \"MONTH\", \"HOURS\", \"MINUTES\", \"SECONDS\"]),\n",
        "        ],\n",
        "        remainder=\"passthrough\",\n",
        "    ),\n",
        "    Nystroem(kernel=\"poly\", degree=2, n_components=75, random_state=0),\n",
        "    RidgeCV(alphas=alphas),\n",
        ")\n",
        "evaluate(one_hot_poly_pipeline, X, y, cv=ts_cv)"
      ],
      "metadata": {
        "colab": {
          "base_uri": "https://localhost:8080/"
        },
        "id": "EU0vfUbckblM",
        "outputId": "23af291c-941f-456a-ebba-551194e7c097"
      },
      "execution_count": 43,
      "outputs": [
        {
          "output_type": "stream",
          "name": "stdout",
          "text": [
            "Mean Absolute Error:     0.001 +/- 0.000\n",
            "Root Mean Squared Error: 0.001 +/- 0.000\n"
          ]
        }
      ]
    },
    {
      "cell_type": "markdown",
      "source": [
        "**Splitting the training and testing dataset for performing ML**"
      ],
      "metadata": {
        "id": "M6Pc5cUC-rxb"
      }
    },
    {
      "cell_type": "code",
      "source": [
        "all_splits = list(ts_cv.split(X, y))\n",
        "train_0, test_0 = all_splits[0]"
      ],
      "metadata": {
        "id": "GrKNw8n1Wzfv"
      },
      "execution_count": 44,
      "outputs": []
    },
    {
      "cell_type": "code",
      "source": [
        "X.iloc[test_0]"
      ],
      "metadata": {
        "colab": {
          "base_uri": "https://localhost:8080/",
          "height": 423
        },
        "id": "koU9nkO1Wzab",
        "outputId": "a1ebd08e-a7a7-40d6-8140-2d9736686d2c"
      },
      "execution_count": 45,
      "outputs": [
        {
          "output_type": "execute_result",
          "data": {
            "text/plain": [
              "        DATE MONTH  YEAR HOURS MINUTES SECONDS\n",
              "2587000   30    09  2021    22      36      40\n",
              "2587001   30    09  2021    22      36      41\n",
              "2587002   30    09  2021    22      36      42\n",
              "2587003   30    09  2021    22      36      43\n",
              "2587004   30    09  2021    22      36      44\n",
              "...      ...   ...   ...   ...     ...     ...\n",
              "2587995   30    09  2021    22      53      15\n",
              "2587996   30    09  2021    22      53      16\n",
              "2587997   30    09  2021    22      53      17\n",
              "2587998   30    09  2021    22      53      18\n",
              "2587999   30    09  2021    22      53      19\n",
              "\n",
              "[1000 rows x 6 columns]"
            ],
            "text/html": [
              "\n",
              "  <div id=\"df-c5b61552-bd27-4a48-a2fd-34e4c06fe60b\">\n",
              "    <div class=\"colab-df-container\">\n",
              "      <div>\n",
              "<style scoped>\n",
              "    .dataframe tbody tr th:only-of-type {\n",
              "        vertical-align: middle;\n",
              "    }\n",
              "\n",
              "    .dataframe tbody tr th {\n",
              "        vertical-align: top;\n",
              "    }\n",
              "\n",
              "    .dataframe thead th {\n",
              "        text-align: right;\n",
              "    }\n",
              "</style>\n",
              "<table border=\"1\" class=\"dataframe\">\n",
              "  <thead>\n",
              "    <tr style=\"text-align: right;\">\n",
              "      <th></th>\n",
              "      <th>DATE</th>\n",
              "      <th>MONTH</th>\n",
              "      <th>YEAR</th>\n",
              "      <th>HOURS</th>\n",
              "      <th>MINUTES</th>\n",
              "      <th>SECONDS</th>\n",
              "    </tr>\n",
              "  </thead>\n",
              "  <tbody>\n",
              "    <tr>\n",
              "      <th>2587000</th>\n",
              "      <td>30</td>\n",
              "      <td>09</td>\n",
              "      <td>2021</td>\n",
              "      <td>22</td>\n",
              "      <td>36</td>\n",
              "      <td>40</td>\n",
              "    </tr>\n",
              "    <tr>\n",
              "      <th>2587001</th>\n",
              "      <td>30</td>\n",
              "      <td>09</td>\n",
              "      <td>2021</td>\n",
              "      <td>22</td>\n",
              "      <td>36</td>\n",
              "      <td>41</td>\n",
              "    </tr>\n",
              "    <tr>\n",
              "      <th>2587002</th>\n",
              "      <td>30</td>\n",
              "      <td>09</td>\n",
              "      <td>2021</td>\n",
              "      <td>22</td>\n",
              "      <td>36</td>\n",
              "      <td>42</td>\n",
              "    </tr>\n",
              "    <tr>\n",
              "      <th>2587003</th>\n",
              "      <td>30</td>\n",
              "      <td>09</td>\n",
              "      <td>2021</td>\n",
              "      <td>22</td>\n",
              "      <td>36</td>\n",
              "      <td>43</td>\n",
              "    </tr>\n",
              "    <tr>\n",
              "      <th>2587004</th>\n",
              "      <td>30</td>\n",
              "      <td>09</td>\n",
              "      <td>2021</td>\n",
              "      <td>22</td>\n",
              "      <td>36</td>\n",
              "      <td>44</td>\n",
              "    </tr>\n",
              "    <tr>\n",
              "      <th>...</th>\n",
              "      <td>...</td>\n",
              "      <td>...</td>\n",
              "      <td>...</td>\n",
              "      <td>...</td>\n",
              "      <td>...</td>\n",
              "      <td>...</td>\n",
              "    </tr>\n",
              "    <tr>\n",
              "      <th>2587995</th>\n",
              "      <td>30</td>\n",
              "      <td>09</td>\n",
              "      <td>2021</td>\n",
              "      <td>22</td>\n",
              "      <td>53</td>\n",
              "      <td>15</td>\n",
              "    </tr>\n",
              "    <tr>\n",
              "      <th>2587996</th>\n",
              "      <td>30</td>\n",
              "      <td>09</td>\n",
              "      <td>2021</td>\n",
              "      <td>22</td>\n",
              "      <td>53</td>\n",
              "      <td>16</td>\n",
              "    </tr>\n",
              "    <tr>\n",
              "      <th>2587997</th>\n",
              "      <td>30</td>\n",
              "      <td>09</td>\n",
              "      <td>2021</td>\n",
              "      <td>22</td>\n",
              "      <td>53</td>\n",
              "      <td>17</td>\n",
              "    </tr>\n",
              "    <tr>\n",
              "      <th>2587998</th>\n",
              "      <td>30</td>\n",
              "      <td>09</td>\n",
              "      <td>2021</td>\n",
              "      <td>22</td>\n",
              "      <td>53</td>\n",
              "      <td>18</td>\n",
              "    </tr>\n",
              "    <tr>\n",
              "      <th>2587999</th>\n",
              "      <td>30</td>\n",
              "      <td>09</td>\n",
              "      <td>2021</td>\n",
              "      <td>22</td>\n",
              "      <td>53</td>\n",
              "      <td>19</td>\n",
              "    </tr>\n",
              "  </tbody>\n",
              "</table>\n",
              "<p>1000 rows × 6 columns</p>\n",
              "</div>\n",
              "      <button class=\"colab-df-convert\" onclick=\"convertToInteractive('df-c5b61552-bd27-4a48-a2fd-34e4c06fe60b')\"\n",
              "              title=\"Convert this dataframe to an interactive table.\"\n",
              "              style=\"display:none;\">\n",
              "        \n",
              "  <svg xmlns=\"http://www.w3.org/2000/svg\" height=\"24px\"viewBox=\"0 0 24 24\"\n",
              "       width=\"24px\">\n",
              "    <path d=\"M0 0h24v24H0V0z\" fill=\"none\"/>\n",
              "    <path d=\"M18.56 5.44l.94 2.06.94-2.06 2.06-.94-2.06-.94-.94-2.06-.94 2.06-2.06.94zm-11 1L8.5 8.5l.94-2.06 2.06-.94-2.06-.94L8.5 2.5l-.94 2.06-2.06.94zm10 10l.94 2.06.94-2.06 2.06-.94-2.06-.94-.94-2.06-.94 2.06-2.06.94z\"/><path d=\"M17.41 7.96l-1.37-1.37c-.4-.4-.92-.59-1.43-.59-.52 0-1.04.2-1.43.59L10.3 9.45l-7.72 7.72c-.78.78-.78 2.05 0 2.83L4 21.41c.39.39.9.59 1.41.59.51 0 1.02-.2 1.41-.59l7.78-7.78 2.81-2.81c.8-.78.8-2.07 0-2.86zM5.41 20L4 18.59l7.72-7.72 1.47 1.35L5.41 20z\"/>\n",
              "  </svg>\n",
              "      </button>\n",
              "      \n",
              "  <style>\n",
              "    .colab-df-container {\n",
              "      display:flex;\n",
              "      flex-wrap:wrap;\n",
              "      gap: 12px;\n",
              "    }\n",
              "\n",
              "    .colab-df-convert {\n",
              "      background-color: #E8F0FE;\n",
              "      border: none;\n",
              "      border-radius: 50%;\n",
              "      cursor: pointer;\n",
              "      display: none;\n",
              "      fill: #1967D2;\n",
              "      height: 32px;\n",
              "      padding: 0 0 0 0;\n",
              "      width: 32px;\n",
              "    }\n",
              "\n",
              "    .colab-df-convert:hover {\n",
              "      background-color: #E2EBFA;\n",
              "      box-shadow: 0px 1px 2px rgba(60, 64, 67, 0.3), 0px 1px 3px 1px rgba(60, 64, 67, 0.15);\n",
              "      fill: #174EA6;\n",
              "    }\n",
              "\n",
              "    [theme=dark] .colab-df-convert {\n",
              "      background-color: #3B4455;\n",
              "      fill: #D2E3FC;\n",
              "    }\n",
              "\n",
              "    [theme=dark] .colab-df-convert:hover {\n",
              "      background-color: #434B5C;\n",
              "      box-shadow: 0px 1px 3px 1px rgba(0, 0, 0, 0.15);\n",
              "      filter: drop-shadow(0px 1px 2px rgba(0, 0, 0, 0.3));\n",
              "      fill: #FFFFFF;\n",
              "    }\n",
              "  </style>\n",
              "\n",
              "      <script>\n",
              "        const buttonEl =\n",
              "          document.querySelector('#df-c5b61552-bd27-4a48-a2fd-34e4c06fe60b button.colab-df-convert');\n",
              "        buttonEl.style.display =\n",
              "          google.colab.kernel.accessAllowed ? 'block' : 'none';\n",
              "\n",
              "        async function convertToInteractive(key) {\n",
              "          const element = document.querySelector('#df-c5b61552-bd27-4a48-a2fd-34e4c06fe60b');\n",
              "          const dataTable =\n",
              "            await google.colab.kernel.invokeFunction('convertToInteractive',\n",
              "                                                     [key], {});\n",
              "          if (!dataTable) return;\n",
              "\n",
              "          const docLinkHtml = 'Like what you see? Visit the ' +\n",
              "            '<a target=\"_blank\" href=https://colab.research.google.com/notebooks/data_table.ipynb>data table notebook</a>'\n",
              "            + ' to learn more about interactive tables.';\n",
              "          element.innerHTML = '';\n",
              "          dataTable['output_type'] = 'display_data';\n",
              "          await google.colab.output.renderOutput(dataTable, element);\n",
              "          const docLink = document.createElement('div');\n",
              "          docLink.innerHTML = docLinkHtml;\n",
              "          element.appendChild(docLink);\n",
              "        }\n",
              "      </script>\n",
              "    </div>\n",
              "  </div>\n",
              "  "
            ]
          },
          "metadata": {},
          "execution_count": 45
        }
      ]
    },
    {
      "cell_type": "code",
      "source": [
        "train_4, test_4 = all_splits[4]"
      ],
      "metadata": {
        "id": "Q7I849GkW6F7"
      },
      "execution_count": 46,
      "outputs": []
    },
    {
      "cell_type": "markdown",
      "source": [
        "**predicting the test results for one hot linear encorder model** \n"
      ],
      "metadata": {
        "id": "txM6Se7l-0yi"
      }
    },
    {
      "cell_type": "code",
      "source": [
        "one_hot_linear_pipeline.fit(X.iloc[train_0], y.iloc[train_0])\n",
        "one_hot_linear_predictions = one_hot_linear_pipeline.predict(X.iloc[test_0])"
      ],
      "metadata": {
        "id": "RVEMovBFXD1w"
      },
      "execution_count": 47,
      "outputs": []
    },
    {
      "cell_type": "markdown",
      "source": [
        "**predicting the test results for one hot polynomial encorder model** \n"
      ],
      "metadata": {
        "id": "5Z4qneGZ_nIX"
      }
    },
    {
      "cell_type": "code",
      "source": [
        "one_hot_poly_pipeline.fit(X.iloc[train_0], y.iloc[train_0])\n",
        "one_hot_poly_predictions = one_hot_poly_pipeline.predict(X.iloc[test_0])"
      ],
      "metadata": {
        "id": "b2_9IiQqk60z"
      },
      "execution_count": 48,
      "outputs": []
    },
    {
      "cell_type": "code",
      "source": [
        "X.iloc[test_0]"
      ],
      "metadata": {
        "colab": {
          "base_uri": "https://localhost:8080/",
          "height": 423
        },
        "id": "IQU0-Mw8pJ2l",
        "outputId": "693b6f2b-4ccc-4ec6-ab60-4f7b3990c686"
      },
      "execution_count": 49,
      "outputs": [
        {
          "output_type": "execute_result",
          "data": {
            "text/plain": [
              "        DATE MONTH  YEAR HOURS MINUTES SECONDS\n",
              "2587000   30    09  2021    22      36      40\n",
              "2587001   30    09  2021    22      36      41\n",
              "2587002   30    09  2021    22      36      42\n",
              "2587003   30    09  2021    22      36      43\n",
              "2587004   30    09  2021    22      36      44\n",
              "...      ...   ...   ...   ...     ...     ...\n",
              "2587995   30    09  2021    22      53      15\n",
              "2587996   30    09  2021    22      53      16\n",
              "2587997   30    09  2021    22      53      17\n",
              "2587998   30    09  2021    22      53      18\n",
              "2587999   30    09  2021    22      53      19\n",
              "\n",
              "[1000 rows x 6 columns]"
            ],
            "text/html": [
              "\n",
              "  <div id=\"df-b0174125-6ec8-4118-9cdd-60a32aad1e41\">\n",
              "    <div class=\"colab-df-container\">\n",
              "      <div>\n",
              "<style scoped>\n",
              "    .dataframe tbody tr th:only-of-type {\n",
              "        vertical-align: middle;\n",
              "    }\n",
              "\n",
              "    .dataframe tbody tr th {\n",
              "        vertical-align: top;\n",
              "    }\n",
              "\n",
              "    .dataframe thead th {\n",
              "        text-align: right;\n",
              "    }\n",
              "</style>\n",
              "<table border=\"1\" class=\"dataframe\">\n",
              "  <thead>\n",
              "    <tr style=\"text-align: right;\">\n",
              "      <th></th>\n",
              "      <th>DATE</th>\n",
              "      <th>MONTH</th>\n",
              "      <th>YEAR</th>\n",
              "      <th>HOURS</th>\n",
              "      <th>MINUTES</th>\n",
              "      <th>SECONDS</th>\n",
              "    </tr>\n",
              "  </thead>\n",
              "  <tbody>\n",
              "    <tr>\n",
              "      <th>2587000</th>\n",
              "      <td>30</td>\n",
              "      <td>09</td>\n",
              "      <td>2021</td>\n",
              "      <td>22</td>\n",
              "      <td>36</td>\n",
              "      <td>40</td>\n",
              "    </tr>\n",
              "    <tr>\n",
              "      <th>2587001</th>\n",
              "      <td>30</td>\n",
              "      <td>09</td>\n",
              "      <td>2021</td>\n",
              "      <td>22</td>\n",
              "      <td>36</td>\n",
              "      <td>41</td>\n",
              "    </tr>\n",
              "    <tr>\n",
              "      <th>2587002</th>\n",
              "      <td>30</td>\n",
              "      <td>09</td>\n",
              "      <td>2021</td>\n",
              "      <td>22</td>\n",
              "      <td>36</td>\n",
              "      <td>42</td>\n",
              "    </tr>\n",
              "    <tr>\n",
              "      <th>2587003</th>\n",
              "      <td>30</td>\n",
              "      <td>09</td>\n",
              "      <td>2021</td>\n",
              "      <td>22</td>\n",
              "      <td>36</td>\n",
              "      <td>43</td>\n",
              "    </tr>\n",
              "    <tr>\n",
              "      <th>2587004</th>\n",
              "      <td>30</td>\n",
              "      <td>09</td>\n",
              "      <td>2021</td>\n",
              "      <td>22</td>\n",
              "      <td>36</td>\n",
              "      <td>44</td>\n",
              "    </tr>\n",
              "    <tr>\n",
              "      <th>...</th>\n",
              "      <td>...</td>\n",
              "      <td>...</td>\n",
              "      <td>...</td>\n",
              "      <td>...</td>\n",
              "      <td>...</td>\n",
              "      <td>...</td>\n",
              "    </tr>\n",
              "    <tr>\n",
              "      <th>2587995</th>\n",
              "      <td>30</td>\n",
              "      <td>09</td>\n",
              "      <td>2021</td>\n",
              "      <td>22</td>\n",
              "      <td>53</td>\n",
              "      <td>15</td>\n",
              "    </tr>\n",
              "    <tr>\n",
              "      <th>2587996</th>\n",
              "      <td>30</td>\n",
              "      <td>09</td>\n",
              "      <td>2021</td>\n",
              "      <td>22</td>\n",
              "      <td>53</td>\n",
              "      <td>16</td>\n",
              "    </tr>\n",
              "    <tr>\n",
              "      <th>2587997</th>\n",
              "      <td>30</td>\n",
              "      <td>09</td>\n",
              "      <td>2021</td>\n",
              "      <td>22</td>\n",
              "      <td>53</td>\n",
              "      <td>17</td>\n",
              "    </tr>\n",
              "    <tr>\n",
              "      <th>2587998</th>\n",
              "      <td>30</td>\n",
              "      <td>09</td>\n",
              "      <td>2021</td>\n",
              "      <td>22</td>\n",
              "      <td>53</td>\n",
              "      <td>18</td>\n",
              "    </tr>\n",
              "    <tr>\n",
              "      <th>2587999</th>\n",
              "      <td>30</td>\n",
              "      <td>09</td>\n",
              "      <td>2021</td>\n",
              "      <td>22</td>\n",
              "      <td>53</td>\n",
              "      <td>19</td>\n",
              "    </tr>\n",
              "  </tbody>\n",
              "</table>\n",
              "<p>1000 rows × 6 columns</p>\n",
              "</div>\n",
              "      <button class=\"colab-df-convert\" onclick=\"convertToInteractive('df-b0174125-6ec8-4118-9cdd-60a32aad1e41')\"\n",
              "              title=\"Convert this dataframe to an interactive table.\"\n",
              "              style=\"display:none;\">\n",
              "        \n",
              "  <svg xmlns=\"http://www.w3.org/2000/svg\" height=\"24px\"viewBox=\"0 0 24 24\"\n",
              "       width=\"24px\">\n",
              "    <path d=\"M0 0h24v24H0V0z\" fill=\"none\"/>\n",
              "    <path d=\"M18.56 5.44l.94 2.06.94-2.06 2.06-.94-2.06-.94-.94-2.06-.94 2.06-2.06.94zm-11 1L8.5 8.5l.94-2.06 2.06-.94-2.06-.94L8.5 2.5l-.94 2.06-2.06.94zm10 10l.94 2.06.94-2.06 2.06-.94-2.06-.94-.94-2.06-.94 2.06-2.06.94z\"/><path d=\"M17.41 7.96l-1.37-1.37c-.4-.4-.92-.59-1.43-.59-.52 0-1.04.2-1.43.59L10.3 9.45l-7.72 7.72c-.78.78-.78 2.05 0 2.83L4 21.41c.39.39.9.59 1.41.59.51 0 1.02-.2 1.41-.59l7.78-7.78 2.81-2.81c.8-.78.8-2.07 0-2.86zM5.41 20L4 18.59l7.72-7.72 1.47 1.35L5.41 20z\"/>\n",
              "  </svg>\n",
              "      </button>\n",
              "      \n",
              "  <style>\n",
              "    .colab-df-container {\n",
              "      display:flex;\n",
              "      flex-wrap:wrap;\n",
              "      gap: 12px;\n",
              "    }\n",
              "\n",
              "    .colab-df-convert {\n",
              "      background-color: #E8F0FE;\n",
              "      border: none;\n",
              "      border-radius: 50%;\n",
              "      cursor: pointer;\n",
              "      display: none;\n",
              "      fill: #1967D2;\n",
              "      height: 32px;\n",
              "      padding: 0 0 0 0;\n",
              "      width: 32px;\n",
              "    }\n",
              "\n",
              "    .colab-df-convert:hover {\n",
              "      background-color: #E2EBFA;\n",
              "      box-shadow: 0px 1px 2px rgba(60, 64, 67, 0.3), 0px 1px 3px 1px rgba(60, 64, 67, 0.15);\n",
              "      fill: #174EA6;\n",
              "    }\n",
              "\n",
              "    [theme=dark] .colab-df-convert {\n",
              "      background-color: #3B4455;\n",
              "      fill: #D2E3FC;\n",
              "    }\n",
              "\n",
              "    [theme=dark] .colab-df-convert:hover {\n",
              "      background-color: #434B5C;\n",
              "      box-shadow: 0px 1px 3px 1px rgba(0, 0, 0, 0.15);\n",
              "      filter: drop-shadow(0px 1px 2px rgba(0, 0, 0, 0.3));\n",
              "      fill: #FFFFFF;\n",
              "    }\n",
              "  </style>\n",
              "\n",
              "      <script>\n",
              "        const buttonEl =\n",
              "          document.querySelector('#df-b0174125-6ec8-4118-9cdd-60a32aad1e41 button.colab-df-convert');\n",
              "        buttonEl.style.display =\n",
              "          google.colab.kernel.accessAllowed ? 'block' : 'none';\n",
              "\n",
              "        async function convertToInteractive(key) {\n",
              "          const element = document.querySelector('#df-b0174125-6ec8-4118-9cdd-60a32aad1e41');\n",
              "          const dataTable =\n",
              "            await google.colab.kernel.invokeFunction('convertToInteractive',\n",
              "                                                     [key], {});\n",
              "          if (!dataTable) return;\n",
              "\n",
              "          const docLinkHtml = 'Like what you see? Visit the ' +\n",
              "            '<a target=\"_blank\" href=https://colab.research.google.com/notebooks/data_table.ipynb>data table notebook</a>'\n",
              "            + ' to learn more about interactive tables.';\n",
              "          element.innerHTML = '';\n",
              "          dataTable['output_type'] = 'display_data';\n",
              "          await google.colab.output.renderOutput(dataTable, element);\n",
              "          const docLink = document.createElement('div');\n",
              "          docLink.innerHTML = docLinkHtml;\n",
              "          element.appendChild(docLink);\n",
              "        }\n",
              "      </script>\n",
              "    </div>\n",
              "  </div>\n",
              "  "
            ]
          },
          "metadata": {},
          "execution_count": 49
        }
      ]
    },
    {
      "cell_type": "code",
      "source": [
        "last_hours = slice(-1000, None)\n",
        "fig, ax = plt.subplots(figsize=(12, 4))\n",
        "fig.suptitle(\"Predictions by one hot encoder\")\n",
        "plt.xlabel(\"Seconds\")\n",
        "plt.xlabel(\"Frequency\")\n",
        "ax.plot(\n",
        "    y.iloc[test_0].values[last_hours]*50.258,\n",
        "    \"x-\",\n",
        "    alpha=0.2,\n",
        "    label=\"Actual demand\",\n",
        "    color=\"blue\",\n",
        ")\n",
        "ax.plot(\n",
        "    one_hot_poly_predictions[last_hours]*50.303,\n",
        "    \"x-\",\n",
        "    label=\"One-hot + polynomial kernel\",\n",
        ")\n",
        "ax.plot(\n",
        "    one_hot_linear_predictions[last_hours]*50.303,\n",
        "    \"x-\",\n",
        "    label=\"One-hot + polynomial kernel\",\n",
        "    color=\"green\"\n",
        ")"
      ],
      "metadata": {
        "colab": {
          "base_uri": "https://localhost:8080/",
          "height": 328
        },
        "id": "gOr7M1rNXJMt",
        "outputId": "1bb30ecd-f37e-46bb-e5ba-7208e13e8ad2"
      },
      "execution_count": 56,
      "outputs": [
        {
          "output_type": "execute_result",
          "data": {
            "text/plain": [
              "[<matplotlib.lines.Line2D at 0x7f56ab793050>]"
            ]
          },
          "metadata": {},
          "execution_count": 56
        },
        {
          "output_type": "display_data",
          "data": {
            "text/plain": [
              "<Figure size 864x288 with 1 Axes>"
            ],
            "image/png": "[encoded data removed]"
          },
          "metadata": {}
        }
      ]
    },
    {
      "cell_type": "markdown",
      "source": [
        "In the above graph, the blue color is the original dataset and green and red are the predicted frequencies.\n",
        "\n",
        "Further tuining is required to perfectly fit the model."
      ],
      "metadata": {
        "id": "pDZ7W6E2Km7d"
      }
    },
    {
      "cell_type": "code",
      "source": [
        "from sklearn.metrics import accuracy_score"
      ],
      "metadata": {
        "id": "QBpVM3UmQmcR"
      },
      "execution_count": 51,
      "outputs": []
    },
    {
      "cell_type": "code",
      "source": [
        "df['f']"
      ],
      "metadata": {
        "colab": {
          "base_uri": "https://localhost:8080/"
        },
        "id": "vtEH-Hzgx-Fl",
        "outputId": "200f656d-6314-4519-aa0e-216c99d9fec6"
      },
      "execution_count": 52,
      "outputs": [
        {
          "output_type": "execute_result",
          "data": {
            "text/plain": [
              "0          49.923\n",
              "1          49.916\n",
              "2          49.908\n",
              "3          49.901\n",
              "4          49.899\n",
              "            ...  \n",
              "2591995    50.052\n",
              "2591996    50.050\n",
              "2591997    50.046\n",
              "2591998    50.044\n",
              "2591999    50.048\n",
              "Name: f, Length: 2592000, dtype: float64"
            ]
          },
          "metadata": {},
          "execution_count": 52
        }
      ]
    },
    {
      "cell_type": "code",
      "source": [
        "df['failure_1'] = df['f'].apply(lambda x: 1 if (x>=50.015 and x<50.1) else 0)\n",
        "df['failure_2'] = df['f'].apply(lambda x: 1 if (x>=50.1 and x<50.2) else 0)\n",
        "df['failure_3'] = df['f'].apply(lambda x: 1 if (x>=50.2 and x<50.3) else 0)\n",
        "df['failure_4'] = df['f'].apply(lambda x: 1 if (x>=50.3 and x<50.4) else 0)\n",
        "df['failure_0'] = df['f'].apply(lambda x: 1 if (x>=50.4 and x<50.5) else 0)"
      ],
      "metadata": {
        "id": "W9WyJ0WqvaOX",
        "colab": {
          "base_uri": "https://localhost:8080/"
        },
        "outputId": "1bf630b0-f5e7-4fcd-a9d3-3515839a5af9"
      },
      "execution_count": 53,
      "outputs": [
        {
          "output_type": "stream",
          "name": "stderr",
          "text": [
            "/usr/local/lib/python3.7/dist-packages/ipykernel_launcher.py:1: SettingWithCopyWarning: \n",
            "A value is trying to be set on a copy of a slice from a DataFrame.\n",
            "Try using .loc[row_indexer,col_indexer] = value instead\n",
            "\n",
            "See the caveats in the documentation: https://pandas.pydata.org/pandas-docs/stable/user_guide/indexing.html#returning-a-view-versus-a-copy\n",
            "  \"\"\"Entry point for launching an IPython kernel.\n",
            "/usr/local/lib/python3.7/dist-packages/ipykernel_launcher.py:2: SettingWithCopyWarning: \n",
            "A value is trying to be set on a copy of a slice from a DataFrame.\n",
            "Try using .loc[row_indexer,col_indexer] = value instead\n",
            "\n",
            "See the caveats in the documentation: https://pandas.pydata.org/pandas-docs/stable/user_guide/indexing.html#returning-a-view-versus-a-copy\n",
            "  \n"
          ]
        }
      ]
    },
    {
      "cell_type": "markdown",
      "source": [
        "### case 1: 50.1 < X >= 50.015 Hz\n",
        "\n"
      ],
      "metadata": {
        "id": "nmAeVg7G0JJJ"
      }
    },
    {
      "cell_type": "code",
      "source": [
        "df['failure_1'].sum()"
      ],
      "metadata": {
        "colab": {
          "base_uri": "https://localhost:8080/"
        },
        "id": "HG_TA3-C0Dmd",
        "outputId": "a18a72de-467b-43de-8678-3561ae657689"
      },
      "execution_count": null,
      "outputs": [
        {
          "output_type": "execute_result",
          "data": {
            "text/plain": [
              "1003989"
            ]
          },
          "metadata": {},
          "execution_count": 45
        }
      ]
    },
    {
      "cell_type": "markdown",
      "source": [
        "### case 2: 50.2 < X >= 50.1 Hz"
      ],
      "metadata": {
        "id": "tANl7IE705UW"
      }
    },
    {
      "cell_type": "code",
      "source": [
        "df['failure_2'].sum()"
      ],
      "metadata": {
        "colab": {
          "base_uri": "https://localhost:8080/"
        },
        "id": "vsdJ98Rm2JWv",
        "outputId": "cd0ac77b-f7f0-4b44-eca9-5e364248f986"
      },
      "execution_count": null,
      "outputs": [
        {
          "output_type": "execute_result",
          "data": {
            "text/plain": [
              "156381"
            ]
          },
          "metadata": {},
          "execution_count": 46
        }
      ]
    },
    {
      "cell_type": "markdown",
      "source": [
        "### case 3: 50.2 < X >= 50.3 Hz"
      ],
      "metadata": {
        "id": "KHsQUwaF1Kwo"
      }
    },
    {
      "cell_type": "code",
      "source": [
        "df['failure_3'].sum()"
      ],
      "metadata": {
        "colab": {
          "base_uri": "https://localhost:8080/"
        },
        "id": "ENwnO43z2MdC",
        "outputId": "74b00b4e-5b74-469f-d084-c3e0f7e6e078"
      },
      "execution_count": null,
      "outputs": [
        {
          "output_type": "execute_result",
          "data": {
            "text/plain": [
              "723"
            ]
          },
          "metadata": {},
          "execution_count": 47
        }
      ]
    },
    {
      "cell_type": "markdown",
      "source": [
        "### case 4: 50.3 < X >= 50.4 Hz"
      ],
      "metadata": {
        "id": "GcuG1fcT1Y7b"
      }
    },
    {
      "cell_type": "code",
      "source": [
        "df['failure_4'].sum()"
      ],
      "metadata": {
        "colab": {
          "base_uri": "https://localhost:8080/"
        },
        "id": "3jdxEAin2O1f",
        "outputId": "b52091d0-e91f-4feb-c8df-5214241d66c3"
      },
      "execution_count": null,
      "outputs": [
        {
          "output_type": "execute_result",
          "data": {
            "text/plain": [
              "0"
            ]
          },
          "metadata": {},
          "execution_count": 48
        }
      ]
    },
    {
      "cell_type": "markdown",
      "source": [
        "### case 5: 50.3 < X >= 50.4 Hz"
      ],
      "metadata": {
        "id": "G6GWwcqk1fDI"
      }
    },
    {
      "cell_type": "code",
      "source": [
        "df['failure_0'].sum()"
      ],
      "metadata": {
        "colab": {
          "base_uri": "https://localhost:8080/"
        },
        "id": "bkE0-nSWJKML",
        "outputId": "03ae2a43-2bd7-48a2-ecbb-63111c22cd29"
      },
      "execution_count": null,
      "outputs": [
        {
          "output_type": "execute_result",
          "data": {
            "text/plain": [
              "0"
            ]
          },
          "metadata": {},
          "execution_count": 49
        }
      ]
    },
    {
      "cell_type": "code",
      "source": [
        "df['failure_5'] = df['f'].apply(lambda x: 1 if (x<=49.985 and x>49.9) else 0)\n",
        "df['failure_6'] = df['f'].apply(lambda x: 1 if (x<=49.9 and x>49.8) else 0)\n",
        "df['failure_7'] = df['f'].apply(lambda x: 1 if (x<=49.8 and x>49.7) else 0)\n",
        "df['failure_8'] = df['f'].apply(lambda x: 1 if (x<=49.7 and x>49.6) else 0)\n",
        "df['failure_9'] = df['f'].apply(lambda x: 1 if (x<=49.6 and x>49.5) else 0)"
      ],
      "metadata": {
        "id": "1CnuRbqzPZZq"
      },
      "execution_count": null,
      "outputs": []
    },
    {
      "cell_type": "markdown",
      "source": [
        "### case 1*: 49.985 < X >= 49.9 Hz"
      ],
      "metadata": {
        "id": "sC1joZl61uiW"
      }
    },
    {
      "cell_type": "code",
      "source": [
        "df['failure_5'].sum()\n"
      ],
      "metadata": {
        "colab": {
          "base_uri": "https://localhost:8080/"
        },
        "id": "1NbKyIk1QcrY",
        "outputId": "fd1816a3-5c1d-4381-a20d-0386ff38714e"
      },
      "execution_count": null,
      "outputs": [
        {
          "output_type": "execute_result",
          "data": {
            "text/plain": [
              "906302"
            ]
          },
          "metadata": {},
          "execution_count": 64
        }
      ]
    },
    {
      "cell_type": "markdown",
      "source": [
        "### case 2*: 49.9 < X >= 49.8 Hz"
      ],
      "metadata": {
        "id": "mX1om2d914ft"
      }
    },
    {
      "cell_type": "code",
      "source": [
        "df['failure_6'].sum()"
      ],
      "metadata": {
        "colab": {
          "base_uri": "https://localhost:8080/"
        },
        "id": "UtQMerSBQiqJ",
        "outputId": "9d03ad03-562f-4f65-f3b3-dc304a0bac2f"
      },
      "execution_count": null,
      "outputs": [
        {
          "output_type": "execute_result",
          "data": {
            "text/plain": [
              "164295"
            ]
          },
          "metadata": {},
          "execution_count": 65
        }
      ]
    },
    {
      "cell_type": "markdown",
      "source": [
        "### case 3*: 49.8 < X >= 49.7 Hz"
      ],
      "metadata": {
        "id": "8AyHZQTm2GJX"
      }
    },
    {
      "cell_type": "code",
      "source": [
        "df['failure_7'].sum()"
      ],
      "metadata": {
        "colab": {
          "base_uri": "https://localhost:8080/"
        },
        "id": "qrPRiW6cQj-8",
        "outputId": "004d5727-202b-4840-ce92-93d8daab322b"
      },
      "execution_count": null,
      "outputs": [
        {
          "output_type": "execute_result",
          "data": {
            "text/plain": [
              "1737"
            ]
          },
          "metadata": {},
          "execution_count": 66
        }
      ]
    },
    {
      "cell_type": "markdown",
      "source": [
        "### case 4*: 49.7 < X >= 49.6 Hz\n"
      ],
      "metadata": {
        "id": "-pazckj_2Qm3"
      }
    },
    {
      "cell_type": "code",
      "source": [
        "df['failure_8'].sum()"
      ],
      "metadata": {
        "colab": {
          "base_uri": "https://localhost:8080/"
        },
        "id": "nwDPAScYQkst",
        "outputId": "407fc87c-de75-48b3-d38a-0296665ba643"
      },
      "execution_count": null,
      "outputs": [
        {
          "output_type": "execute_result",
          "data": {
            "text/plain": [
              "2"
            ]
          },
          "metadata": {},
          "execution_count": 67
        }
      ]
    },
    {
      "cell_type": "markdown",
      "source": [
        "### case 5*: 49.6 < X >= 49.5 Hz"
      ],
      "metadata": {
        "id": "4DYIiBqh2RND"
      }
    },
    {
      "cell_type": "code",
      "source": [
        "df['failure_9'].sum()"
      ],
      "metadata": {
        "colab": {
          "base_uri": "https://localhost:8080/"
        },
        "id": "Cuv9Z5RyQtop",
        "outputId": "632ec94a-f57b-4543-dcd7-b66798f2a4d3"
      },
      "execution_count": null,
      "outputs": [
        {
          "output_type": "execute_result",
          "data": {
            "text/plain": [
              "0"
            ]
          },
          "metadata": {},
          "execution_count": 69
        }
      ]
    }
  ]
}